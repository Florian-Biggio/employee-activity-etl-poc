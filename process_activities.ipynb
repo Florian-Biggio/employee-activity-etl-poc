{
 "cells": [
  {
   "cell_type": "code",
   "execution_count": 1,
   "id": "d0a43aec",
   "metadata": {},
   "outputs": [
    {
     "name": "stdout",
     "output_type": "stream",
     "text": [
      "\n",
      "Running tests...\n",
      "\u001b[1m============================= test session starts =============================\u001b[0m\n",
      "platform win32 -- Python 3.13.1, pytest-8.4.1, pluggy-1.6.0 -- c:\\Users\\Dev\\Desktop\\OpenClassrooms\\Project12\\employee-activity-etl-poc\\venv\\Scripts\\python.exe\n",
      "cachedir: .pytest_cache\n",
      "rootdir: c:\\Users\\Dev\\Desktop\\OpenClassrooms\\Project12\\employee-activity-etl-poc\n",
      "plugins: Faker-37.5.3\n",
      "\u001b[1mcollecting ... \u001b[0mcollected 4 items\n",
      "\n",
      "test_sport_benefits.py::test_validate_future_dates \u001b[32mPASSED\u001b[0m\u001b[32m                [ 25%]\u001b[0m\n",
      "test_sport_benefits.py::test_validate_negative_distances \u001b[32mPASSED\u001b[0m\u001b[32m          [ 50%]\u001b[0m\n",
      "test_sport_benefits.py::test_validate_sport_distances \u001b[31mFAILED\u001b[0m\u001b[31m             [ 75%]\u001b[0m\n",
      "test_sport_benefits.py::test_valid_activities \u001b[32mPASSED\u001b[0m\u001b[31m                     [100%]\u001b[0m\n",
      "\n",
      "================================== FAILURES ===================================\n",
      "\u001b[31m\u001b[1m________________________ test_validate_sport_distances ________________________\u001b[0m\n",
      "\n",
      "sample_activities =    ID  ID_salarié              Date_de_début           Type  Distance  \\\n",
      "0   1         101 2025-08-02 12:34:13.601683 ...-01 14:34:13.601729              \n",
      "3 2025-07-31 13:34:13.601733              \n",
      "4 2025-07-30 13:04:13.601737              \n",
      "\n",
      "    \u001b[0m\u001b[94mdef\u001b[39;49;00m\u001b[90m \u001b[39;49;00m\u001b[92mtest_validate_sport_distances\u001b[39;49;00m(sample_activities):\u001b[90m\u001b[39;49;00m\n",
      "        results = validate_activities(sample_activities)\u001b[90m\u001b[39;49;00m\n",
      "        \u001b[90m# ID 5 has 300m swimming which is below minimum (500m)\u001b[39;49;00m\u001b[90m\u001b[39;49;00m\n",
      "        \u001b[94massert\u001b[39;49;00m \u001b[94m5\u001b[39;49;00m \u001b[95min\u001b[39;49;00m results[\u001b[33m'\u001b[39;49;00m\u001b[33minvalid_sport_distances\u001b[39;49;00m\u001b[33m'\u001b[39;49;00m]\u001b[90m\u001b[39;49;00m\n",
      ">       \u001b[94massert\u001b[39;49;00m \u001b[96mlen\u001b[39;49;00m(results[\u001b[33m'\u001b[39;49;00m\u001b[33minvalid_sport_distances\u001b[39;49;00m\u001b[33m'\u001b[39;49;00m]) == \u001b[94m1\u001b[39;49;00m\u001b[90m\u001b[39;49;00m\n",
      "\u001b[1m\u001b[31mE       assert 2 == 1\u001b[0m\n",
      "\u001b[1m\u001b[31mE        +  where 2 = len([2, 5])\u001b[0m\n",
      "\n",
      "\u001b[1m\u001b[31mtest_sport_benefits.py\u001b[0m:46: AssertionError\n",
      "\u001b[36m\u001b[1m=========================== short test summary info ===========================\u001b[0m\n",
      "\u001b[31mFAILED\u001b[0m test_sport_benefits.py::\u001b[1mtest_validate_sport_distances\u001b[0m - assert 2 == 1\n",
      "\u001b[31m========================= \u001b[31m\u001b[1m1 failed\u001b[0m, \u001b[32m3 passed\u001b[0m\u001b[31m in 1.23s\u001b[0m\u001b[31m =========================\u001b[0m\n",
      "\n",
      "Data validation complete. Proceeding with business logic...\n"
     ]
    }
   ],
   "source": [
    "# process_activities.py\n",
    "import pandas as pd\n",
    "from sport_benefits import validate_activities\n",
    "import pytest\n",
    "\n",
    "def main():\n",
    "    # Load your generated data\n",
    "    activities_df = pd.read_csv('strava_simulation.csv')\n",
    "    \n",
    "    # Run validations\n",
    "    validation_results = validate_activities(activities_df)\n",
    "    \n",
    "    # Report issues\n",
    "    if validation_results['future_dates']:\n",
    "        print(f\"Warning: {len(validation_results['future_dates'])} activities have future dates\")\n",
    "    \n",
    "    if validation_results['negative_distances']:\n",
    "        print(f\"Error: {len(validation_results['negative_distances'])} activities have negative distances\")\n",
    "    \n",
    "    if validation_results['invalid_sport_distances']:\n",
    "        print(f\"Warning: {len(validation_results['invalid_sport_distances'])} activities have unusual distances for their sport type\")\n",
    "    \n",
    "    # Run tests (optional - could be in CI/CD pipeline)\n",
    "    print(\"\\nRunning tests...\")\n",
    "    pytest.main(['test_sport_benefits.py', '-v'])\n",
    "    \n",
    "    # Continue with your processing...\n",
    "    print(\"\\nData validation complete. Proceeding with business logic...\")\n",
    "\n",
    "if __name__ == \"__main__\":\n",
    "    main()"
   ]
  }
 ],
 "metadata": {
  "kernelspec": {
   "display_name": "venv",
   "language": "python",
   "name": "python3"
  },
  "language_info": {
   "codemirror_mode": {
    "name": "ipython",
    "version": 3
   },
   "file_extension": ".py",
   "mimetype": "text/x-python",
   "name": "python",
   "nbconvert_exporter": "python",
   "pygments_lexer": "ipython3",
   "version": "3.13.1"
  }
 },
 "nbformat": 4,
 "nbformat_minor": 5
}
