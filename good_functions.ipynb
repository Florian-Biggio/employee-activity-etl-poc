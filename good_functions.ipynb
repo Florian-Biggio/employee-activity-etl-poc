{
 "cells": [
  {
   "cell_type": "code",
   "execution_count": 1,
   "id": "de58ef6a",
   "metadata": {},
   "outputs": [],
   "source": [
    "import pandas as pd\n",
    "from sqlalchemy import create_engine, exc, text\n",
    "from sqlalchemy.engine import URL\n",
    "\n",
    "# Configuration\n",
    "DB_CONFIG = {\n",
    "    'host': 'localhost',\n",
    "    'database': 'strava_poc',\n",
    "    'user': 'strava_admin',\n",
    "    'password': 'aqwzsxedc',\n",
    "    'port': '5432'\n",
    "}\n",
    "\n",
    "HR_FILE = 'data/DonneesRH.xlsx'\n",
    "ACTIVITIES_CSV = 'strava_simulation.csv'\n",
    "\n",
    "def create_db_connection():\n",
    "    \"\"\"Create a database connection\"\"\"\n",
    "    connection_url = URL.create(\n",
    "        \"postgresql+psycopg2\",\n",
    "        username=DB_CONFIG['user'],\n",
    "        password=DB_CONFIG['password'],\n",
    "        host=DB_CONFIG['host'],\n",
    "        port=DB_CONFIG['port'],\n",
    "        database=DB_CONFIG['database']\n",
    "    )\n",
    "    return create_engine(connection_url)"
   ]
  },
  {
   "cell_type": "code",
   "execution_count": null,
   "id": "2df35cea",
   "metadata": {},
   "outputs": [],
   "source": []
  }
 ],
 "metadata": {
  "kernelspec": {
   "display_name": "venv",
   "language": "python",
   "name": "python3"
  },
  "language_info": {
   "codemirror_mode": {
    "name": "ipython",
    "version": 3
   },
   "file_extension": ".py",
   "mimetype": "text/x-python",
   "name": "python",
   "nbconvert_exporter": "python",
   "pygments_lexer": "ipython3",
   "version": "3.13.1"
  }
 },
 "nbformat": 4,
 "nbformat_minor": 5
}
