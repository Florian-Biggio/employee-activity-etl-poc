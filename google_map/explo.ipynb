{
 "cells": [
  {
   "cell_type": "code",
   "execution_count": null,
   "id": "ec87a6ee",
   "metadata": {},
   "outputs": [
    {
     "name": "stdout",
     "output_type": "stream",
     "text": [
      "📂 Loading data files...\n",
      "👥 RH data: 161 employees\n",
      "🏃 Sport data: 161 employees\n",
      "\n",
      "🔍 Data validation...\n",
      "Null values in RH data:\n",
      "ID salarié               0\n",
      "Nom                      0\n",
      "Prénom                   0\n",
      "Date de naissance        0\n",
      "BU                       0\n",
      "Date d'embauche          0\n",
      "Salaire brut             0\n",
      "Type de contrat          0\n",
      "Nombre de jours de CP    0\n",
      "Adresse du domicile      0\n",
      "Moyen de déplacement     0\n",
      "dtype: int64\n",
      "\n",
      "Transport modes available:\n",
      "Moyen de déplacement\n",
      "véhicule thermique/électrique    73\n",
      "Vélo/Trottinette/Autres          54\n",
      "Transports en commun             20\n",
      "Marche/running                   14\n",
      "Name: count, dtype: int64\n",
      "🚀 Starting commute calculation for 161 employees...\n",
      "🏢 Company address: 1362 Av. des Platanes, 34970 Lattes\n",
      "------------------------------------------------------------\n"
     ]
    },
    {
     "name": "stderr",
     "output_type": "stream",
     "text": [
      "Calculating commutes:   0%|          | 0/161 [00:00<?, ?it/s]"
     ]
    },
    {
     "name": "stdout",
     "output_type": "stream",
     "text": [
      "📍 Calculating route for Audrey Colin (transit)...\n"
     ]
    },
    {
     "name": "stderr",
     "output_type": "stream",
     "text": [
      "Calculating commutes:   1%|          | 1/161 [00:01<04:29,  1.69s/it]"
     ]
    },
    {
     "name": "stdout",
     "output_type": "stream",
     "text": [
      "📍 Calculating route for Monique Ledoux (driving)...\n"
     ]
    },
    {
     "name": "stderr",
     "output_type": "stream",
     "text": [
      "Calculating commutes:   1%|          | 2/161 [00:03<04:03,  1.53s/it]"
     ]
    },
    {
     "name": "stdout",
     "output_type": "stream",
     "text": [
      "📍 Calculating route for Michelle Dumont (driving)...\n"
     ]
    },
    {
     "name": "stderr",
     "output_type": "stream",
     "text": [
      "Calculating commutes:   2%|▏         | 3/161 [00:04<04:13,  1.61s/it]"
     ]
    },
    {
     "name": "stdout",
     "output_type": "stream",
     "text": [
      "📍 Calculating route for Judith Toussaint (walking)...\n"
     ]
    },
    {
     "name": "stderr",
     "output_type": "stream",
     "text": [
      "Calculating commutes:   2%|▏         | 4/161 [00:06<04:24,  1.69s/it]"
     ]
    },
    {
     "name": "stdout",
     "output_type": "stream",
     "text": [
      "📍 Calculating route for Michelle Bailly (walking)...\n"
     ]
    },
    {
     "name": "stderr",
     "output_type": "stream",
     "text": [
      "Calculating commutes:   3%|▎         | 5/161 [00:08<04:47,  1.85s/it]"
     ]
    },
    {
     "name": "stdout",
     "output_type": "stream",
     "text": [
      "📍 Calculating route for Margaret Bazin (bicycling)...\n"
     ]
    },
    {
     "name": "stderr",
     "output_type": "stream",
     "text": [
      "Calculating commutes:   4%|▎         | 6/161 [00:10<04:47,  1.85s/it]"
     ]
    },
    {
     "name": "stdout",
     "output_type": "stream",
     "text": [
      "📍 Calculating route for Julien Jacques (driving)...\n"
     ]
    },
    {
     "name": "stderr",
     "output_type": "stream",
     "text": [
      "Calculating commutes:   4%|▍         | 7/161 [00:12<04:56,  1.92s/it]"
     ]
    },
    {
     "name": "stdout",
     "output_type": "stream",
     "text": [
      "📍 Calculating route for Brigitte Pons (transit)...\n"
     ]
    },
    {
     "name": "stderr",
     "output_type": "stream",
     "text": [
      "Calculating commutes:   5%|▍         | 8/161 [00:14<04:36,  1.81s/it]"
     ]
    },
    {
     "name": "stdout",
     "output_type": "stream",
     "text": [
      "📍 Calculating route for Jérome Rousset (driving)...\n"
     ]
    },
    {
     "name": "stderr",
     "output_type": "stream",
     "text": [
      "Calculating commutes:   6%|▌         | 9/161 [00:16<04:38,  1.83s/it]"
     ]
    },
    {
     "name": "stdout",
     "output_type": "stream",
     "text": [
      "📍 Calculating route for Zakaria Chauvin (bicycling)...\n"
     ]
    },
    {
     "name": "stderr",
     "output_type": "stream",
     "text": [
      "Calculating commutes:   6%|▌         | 10/161 [00:17<04:20,  1.72s/it]"
     ]
    },
    {
     "name": "stdout",
     "output_type": "stream",
     "text": [
      "📍 Calculating route for Aurélie Chartier (driving)...\n"
     ]
    },
    {
     "name": "stderr",
     "output_type": "stream",
     "text": [
      "Calculating commutes:   7%|▋         | 11/161 [00:19<04:11,  1.67s/it]"
     ]
    },
    {
     "name": "stdout",
     "output_type": "stream",
     "text": [
      "📍 Calculating route for Augustin Maillard (transit)...\n"
     ]
    },
    {
     "name": "stderr",
     "output_type": "stream",
     "text": [
      "Calculating commutes:   7%|▋         | 12/161 [00:20<03:55,  1.58s/it]"
     ]
    },
    {
     "name": "stdout",
     "output_type": "stream",
     "text": [
      "📍 Calculating route for Francoise Tessier (bicycling)...\n"
     ]
    },
    {
     "name": "stderr",
     "output_type": "stream",
     "text": [
      "Calculating commutes:   8%|▊         | 13/161 [00:21<03:46,  1.53s/it]"
     ]
    },
    {
     "name": "stdout",
     "output_type": "stream",
     "text": [
      "📍 Calculating route for Yves Neveu (driving)...\n"
     ]
    },
    {
     "name": "stderr",
     "output_type": "stream",
     "text": [
      "Calculating commutes:   9%|▊         | 14/161 [00:23<03:56,  1.61s/it]"
     ]
    },
    {
     "name": "stdout",
     "output_type": "stream",
     "text": [
      "📍 Calculating route for Benoit Fischer (driving)...\n"
     ]
    },
    {
     "name": "stderr",
     "output_type": "stream",
     "text": [
      "Calculating commutes:   9%|▉         | 15/161 [00:25<04:17,  1.76s/it]"
     ]
    },
    {
     "name": "stdout",
     "output_type": "stream",
     "text": [
      "📍 Calculating route for Antoine Rodriguez (bicycling)...\n"
     ]
    },
    {
     "name": "stderr",
     "output_type": "stream",
     "text": [
      "Calculating commutes:  10%|▉         | 16/161 [00:27<04:28,  1.85s/it]"
     ]
    },
    {
     "name": "stdout",
     "output_type": "stream",
     "text": [
      "📍 Calculating route for Eugénie Foucher (driving)...\n"
     ]
    },
    {
     "name": "stderr",
     "output_type": "stream",
     "text": [
      "Calculating commutes:  11%|█         | 17/161 [00:29<04:35,  1.91s/it]"
     ]
    },
    {
     "name": "stdout",
     "output_type": "stream",
     "text": [
      "📍 Calculating route for Léon Olivier (transit)...\n"
     ]
    },
    {
     "name": "stderr",
     "output_type": "stream",
     "text": [
      "Calculating commutes:  11%|█         | 18/161 [00:32<04:46,  2.00s/it]"
     ]
    },
    {
     "name": "stdout",
     "output_type": "stream",
     "text": [
      "📍 Calculating route for Francoise Laole (driving)...\n"
     ]
    },
    {
     "name": "stderr",
     "output_type": "stream",
     "text": [
      "Calculating commutes:  12%|█▏        | 19/161 [00:34<04:50,  2.04s/it]"
     ]
    },
    {
     "name": "stdout",
     "output_type": "stream",
     "text": [
      "📍 Calculating route for Claire Evrard (driving)...\n"
     ]
    },
    {
     "name": "stderr",
     "output_type": "stream",
     "text": [
      "Calculating commutes:  12%|█▏        | 20/161 [00:35<04:30,  1.92s/it]"
     ]
    },
    {
     "name": "stdout",
     "output_type": "stream",
     "text": [
      "📍 Calculating route for Victor Humbert (bicycling)...\n"
     ]
    },
    {
     "name": "stderr",
     "output_type": "stream",
     "text": [
      "Calculating commutes:  13%|█▎        | 21/161 [00:37<04:07,  1.77s/it]"
     ]
    },
    {
     "name": "stdout",
     "output_type": "stream",
     "text": [
      "📍 Calculating route for Alice Devaux (driving)...\n"
     ]
    },
    {
     "name": "stderr",
     "output_type": "stream",
     "text": [
      "Calculating commutes:  14%|█▎        | 22/161 [00:38<03:43,  1.61s/it]"
     ]
    },
    {
     "name": "stdout",
     "output_type": "stream",
     "text": [
      "📍 Calculating route for Michelle Gauthier (bicycling)...\n"
     ]
    },
    {
     "name": "stderr",
     "output_type": "stream",
     "text": [
      "Calculating commutes:  14%|█▍        | 23/161 [00:40<03:58,  1.73s/it]"
     ]
    },
    {
     "name": "stdout",
     "output_type": "stream",
     "text": [
      "📍 Calculating route for Mathilde Dias (driving)...\n"
     ]
    },
    {
     "name": "stderr",
     "output_type": "stream",
     "text": [
      "Calculating commutes:  15%|█▍        | 24/161 [00:42<03:45,  1.65s/it]"
     ]
    },
    {
     "name": "stdout",
     "output_type": "stream",
     "text": [
      "📍 Calculating route for Robert Lopez (bicycling)...\n"
     ]
    },
    {
     "name": "stderr",
     "output_type": "stream",
     "text": [
      "Calculating commutes:  16%|█▌        | 25/161 [00:44<04:03,  1.79s/it]"
     ]
    },
    {
     "name": "stdout",
     "output_type": "stream",
     "text": [
      "📍 Calculating route for Claudine Joubert (bicycling)...\n"
     ]
    },
    {
     "name": "stderr",
     "output_type": "stream",
     "text": [
      "Calculating commutes:  16%|█▌        | 26/161 [00:45<04:00,  1.78s/it]"
     ]
    },
    {
     "name": "stdout",
     "output_type": "stream",
     "text": [
      "📍 Calculating route for Benjamin Royer (walking)...\n"
     ]
    },
    {
     "name": "stderr",
     "output_type": "stream",
     "text": [
      "Calculating commutes:  17%|█▋        | 27/161 [00:47<03:44,  1.67s/it]"
     ]
    },
    {
     "name": "stdout",
     "output_type": "stream",
     "text": [
      "📍 Calculating route for Léa Blin (driving)...\n"
     ]
    },
    {
     "name": "stderr",
     "output_type": "stream",
     "text": [
      "Calculating commutes:  17%|█▋        | 28/161 [00:48<03:32,  1.59s/it]"
     ]
    },
    {
     "name": "stdout",
     "output_type": "stream",
     "text": [
      "📍 Calculating route for Diane Rey (driving)...\n"
     ]
    },
    {
     "name": "stderr",
     "output_type": "stream",
     "text": [
      "Calculating commutes:  18%|█▊        | 29/161 [00:50<03:31,  1.60s/it]"
     ]
    },
    {
     "name": "stdout",
     "output_type": "stream",
     "text": [
      "📍 Calculating route for Gabriel Poirier (driving)...\n"
     ]
    },
    {
     "name": "stderr",
     "output_type": "stream",
     "text": [
      "Calculating commutes:  19%|█▊        | 30/161 [00:51<03:14,  1.49s/it]"
     ]
    },
    {
     "name": "stdout",
     "output_type": "stream",
     "text": [
      "📍 Calculating route for Brigitte Aubert (walking)...\n"
     ]
    },
    {
     "name": "stderr",
     "output_type": "stream",
     "text": [
      "Calculating commutes:  19%|█▉        | 31/161 [00:52<03:08,  1.45s/it]"
     ]
    },
    {
     "name": "stdout",
     "output_type": "stream",
     "text": [
      "📍 Calculating route for Maurice Lemaire (driving)...\n"
     ]
    },
    {
     "name": "stderr",
     "output_type": "stream",
     "text": [
      "Calculating commutes:  20%|█▉        | 32/161 [00:54<03:19,  1.55s/it]"
     ]
    },
    {
     "name": "stdout",
     "output_type": "stream",
     "text": [
      "📍 Calculating route for Charles Roussel (driving)...\n"
     ]
    },
    {
     "name": "stderr",
     "output_type": "stream",
     "text": [
      "Calculating commutes:  20%|██        | 33/161 [00:56<03:36,  1.69s/it]"
     ]
    },
    {
     "name": "stdout",
     "output_type": "stream",
     "text": [
      "📍 Calculating route for Claire Rossi (driving)...\n"
     ]
    },
    {
     "name": "stderr",
     "output_type": "stream",
     "text": [
      "Calculating commutes:  21%|██        | 34/161 [00:58<03:25,  1.62s/it]"
     ]
    },
    {
     "name": "stdout",
     "output_type": "stream",
     "text": [
      "📍 Calculating route for Alain Lagarde (bicycling)...\n"
     ]
    },
    {
     "name": "stderr",
     "output_type": "stream",
     "text": [
      "Calculating commutes:  22%|██▏       | 35/161 [01:00<03:30,  1.67s/it]"
     ]
    },
    {
     "name": "stdout",
     "output_type": "stream",
     "text": [
      "📍 Calculating route for Juliette Mendes (driving)...\n"
     ]
    },
    {
     "name": "stderr",
     "output_type": "stream",
     "text": [
      "Calculating commutes:  22%|██▏       | 36/161 [01:01<03:38,  1.75s/it]"
     ]
    },
    {
     "name": "stdout",
     "output_type": "stream",
     "text": [
      "📍 Calculating route for Mégane Louis (bicycling)...\n"
     ]
    },
    {
     "name": "stderr",
     "output_type": "stream",
     "text": [
      "Calculating commutes:  23%|██▎       | 37/161 [01:03<03:46,  1.83s/it]"
     ]
    },
    {
     "name": "stdout",
     "output_type": "stream",
     "text": [
      "📍 Calculating route for Francoise Toussaint (bicycling)...\n"
     ]
    },
    {
     "name": "stderr",
     "output_type": "stream",
     "text": [
      "Calculating commutes:  24%|██▎       | 38/161 [01:05<03:40,  1.80s/it]"
     ]
    },
    {
     "name": "stdout",
     "output_type": "stream",
     "text": [
      "📍 Calculating route for Andréa Munoz (driving)...\n"
     ]
    },
    {
     "name": "stderr",
     "output_type": "stream",
     "text": [
      "Calculating commutes:  24%|██▍       | 39/161 [01:07<03:39,  1.80s/it]"
     ]
    },
    {
     "name": "stdout",
     "output_type": "stream",
     "text": [
      "📍 Calculating route for Monique Bonneau (walking)...\n"
     ]
    },
    {
     "name": "stderr",
     "output_type": "stream",
     "text": [
      "Calculating commutes:  25%|██▍       | 40/161 [01:09<03:39,  1.81s/it]"
     ]
    },
    {
     "name": "stdout",
     "output_type": "stream",
     "text": [
      "📍 Calculating route for Constance Carlier (driving)...\n"
     ]
    },
    {
     "name": "stderr",
     "output_type": "stream",
     "text": [
      "Calculating commutes:  25%|██▌       | 41/161 [01:10<03:15,  1.63s/it]"
     ]
    },
    {
     "name": "stdout",
     "output_type": "stream",
     "text": [
      "📍 Calculating route for Marcel Jacquot (driving)...\n"
     ]
    },
    {
     "name": "stderr",
     "output_type": "stream",
     "text": [
      "Calculating commutes:  26%|██▌       | 42/161 [01:12<03:10,  1.60s/it]"
     ]
    },
    {
     "name": "stdout",
     "output_type": "stream",
     "text": [
      "📍 Calculating route for Marine Gautier (transit)...\n"
     ]
    },
    {
     "name": "stderr",
     "output_type": "stream",
     "text": [
      "Calculating commutes:  27%|██▋       | 43/161 [01:13<03:04,  1.56s/it]"
     ]
    },
    {
     "name": "stdout",
     "output_type": "stream",
     "text": [
      "📍 Calculating route for Andre Vallet (bicycling)...\n"
     ]
    },
    {
     "name": "stderr",
     "output_type": "stream",
     "text": [
      "Calculating commutes:  27%|██▋       | 44/161 [01:15<03:20,  1.72s/it]"
     ]
    },
    {
     "name": "stdout",
     "output_type": "stream",
     "text": [
      "📍 Calculating route for Louis Martel (transit)...\n"
     ]
    },
    {
     "name": "stderr",
     "output_type": "stream",
     "text": [
      "Calculating commutes:  28%|██▊       | 45/161 [01:17<03:18,  1.71s/it]"
     ]
    },
    {
     "name": "stdout",
     "output_type": "stream",
     "text": [
      "📍 Calculating route for William Hebert (bicycling)...\n"
     ]
    },
    {
     "name": "stderr",
     "output_type": "stream",
     "text": [
      "Calculating commutes:  29%|██▊       | 46/161 [01:19<03:31,  1.84s/it]"
     ]
    },
    {
     "name": "stdout",
     "output_type": "stream",
     "text": [
      "📍 Calculating route for Jules Schmitt (walking)...\n"
     ]
    },
    {
     "name": "stderr",
     "output_type": "stream",
     "text": [
      "Calculating commutes:  29%|██▉       | 47/161 [01:20<03:13,  1.69s/it]"
     ]
    },
    {
     "name": "stdout",
     "output_type": "stream",
     "text": [
      "📍 Calculating route for Denise Lambert (bicycling)...\n"
     ]
    },
    {
     "name": "stderr",
     "output_type": "stream",
     "text": [
      "Calculating commutes:  30%|██▉       | 48/161 [01:22<03:21,  1.78s/it]"
     ]
    },
    {
     "name": "stdout",
     "output_type": "stream",
     "text": [
      "📍 Calculating route for Olivie Lacroix (driving)...\n"
     ]
    },
    {
     "name": "stderr",
     "output_type": "stream",
     "text": [
      "Calculating commutes:  30%|███       | 49/161 [01:24<03:14,  1.74s/it]"
     ]
    },
    {
     "name": "stdout",
     "output_type": "stream",
     "text": [
      "📍 Calculating route for Paul Hamon (bicycling)...\n"
     ]
    },
    {
     "name": "stderr",
     "output_type": "stream",
     "text": [
      "Calculating commutes:  31%|███       | 50/161 [01:26<03:14,  1.75s/it]"
     ]
    },
    {
     "name": "stdout",
     "output_type": "stream",
     "text": [
      "📍 Calculating route for Christine Klein (driving)...\n"
     ]
    },
    {
     "name": "stderr",
     "output_type": "stream",
     "text": [
      "Calculating commutes:  32%|███▏      | 51/161 [01:28<03:13,  1.76s/it]"
     ]
    },
    {
     "name": "stdout",
     "output_type": "stream",
     "text": [
      "📍 Calculating route for Julie Boyer (bicycling)...\n"
     ]
    },
    {
     "name": "stderr",
     "output_type": "stream",
     "text": [
      "Calculating commutes:  32%|███▏      | 52/161 [01:29<03:03,  1.68s/it]"
     ]
    },
    {
     "name": "stdout",
     "output_type": "stream",
     "text": [
      "📍 Calculating route for Yves Pons (driving)...\n"
     ]
    },
    {
     "name": "stderr",
     "output_type": "stream",
     "text": [
      "Calculating commutes:  33%|███▎      | 53/161 [01:31<03:10,  1.77s/it]"
     ]
    },
    {
     "name": "stdout",
     "output_type": "stream",
     "text": [
      "📍 Calculating route for Jeremy Arnaud (driving)...\n"
     ]
    },
    {
     "name": "stderr",
     "output_type": "stream",
     "text": [
      "Calculating commutes:  34%|███▎      | 54/161 [01:33<03:04,  1.72s/it]"
     ]
    },
    {
     "name": "stdout",
     "output_type": "stream",
     "text": [
      "📍 Calculating route for Elodie Provost (bicycling)...\n"
     ]
    },
    {
     "name": "stderr",
     "output_type": "stream",
     "text": [
      "Calculating commutes:  34%|███▍      | 55/161 [01:35<03:13,  1.83s/it]"
     ]
    },
    {
     "name": "stdout",
     "output_type": "stream",
     "text": [
      "📍 Calculating route for Julien Ferrand (bicycling)...\n"
     ]
    },
    {
     "name": "stderr",
     "output_type": "stream",
     "text": [
      "Calculating commutes:  35%|███▍      | 56/161 [01:36<03:05,  1.76s/it]"
     ]
    },
    {
     "name": "stdout",
     "output_type": "stream",
     "text": [
      "📍 Calculating route for Henriette Thibault (driving)...\n"
     ]
    },
    {
     "name": "stderr",
     "output_type": "stream",
     "text": [
      "Calculating commutes:  35%|███▌      | 57/161 [01:38<02:49,  1.63s/it]"
     ]
    },
    {
     "name": "stdout",
     "output_type": "stream",
     "text": [
      "📍 Calculating route for Naomie Michaud (driving)...\n"
     ]
    },
    {
     "name": "stderr",
     "output_type": "stream",
     "text": [
      "Calculating commutes:  36%|███▌      | 58/161 [01:40<02:59,  1.75s/it]"
     ]
    },
    {
     "name": "stdout",
     "output_type": "stream",
     "text": [
      "📍 Calculating route for Adèle Albert (bicycling)...\n"
     ]
    },
    {
     "name": "stderr",
     "output_type": "stream",
     "text": [
      "Calculating commutes:  37%|███▋      | 59/161 [01:41<02:54,  1.71s/it]"
     ]
    },
    {
     "name": "stdout",
     "output_type": "stream",
     "text": [
      "📍 Calculating route for Léon Rodriguez (driving)...\n"
     ]
    },
    {
     "name": "stderr",
     "output_type": "stream",
     "text": [
      "Calculating commutes:  37%|███▋      | 60/161 [01:43<03:04,  1.82s/it]"
     ]
    },
    {
     "name": "stdout",
     "output_type": "stream",
     "text": [
      "📍 Calculating route for Joseph Gosselin (transit)...\n"
     ]
    },
    {
     "name": "stderr",
     "output_type": "stream",
     "text": [
      "Calculating commutes:  38%|███▊      | 61/161 [01:45<02:53,  1.74s/it]"
     ]
    },
    {
     "name": "stdout",
     "output_type": "stream",
     "text": [
      "📍 Calculating route for Arthur Pendragon (driving)...\n"
     ]
    },
    {
     "name": "stderr",
     "output_type": "stream",
     "text": [
      "Calculating commutes:  39%|███▊      | 62/161 [01:47<02:52,  1.74s/it]"
     ]
    },
    {
     "name": "stdout",
     "output_type": "stream",
     "text": [
      "📍 Calculating route for Nath De Oliveira (walking)...\n"
     ]
    },
    {
     "name": "stderr",
     "output_type": "stream",
     "text": [
      "Calculating commutes:  39%|███▉      | 63/161 [01:48<02:43,  1.67s/it]"
     ]
    },
    {
     "name": "stdout",
     "output_type": "stream",
     "text": [
      "📍 Calculating route for Roger Henry (bicycling)...\n"
     ]
    },
    {
     "name": "stderr",
     "output_type": "stream",
     "text": [
      "Calculating commutes:  40%|███▉      | 64/161 [01:49<02:32,  1.57s/it]"
     ]
    },
    {
     "name": "stdout",
     "output_type": "stream",
     "text": [
      "📍 Calculating route for Hugues Fischer (bicycling)...\n"
     ]
    },
    {
     "name": "stderr",
     "output_type": "stream",
     "text": [
      "Calculating commutes:  40%|████      | 65/161 [01:51<02:34,  1.61s/it]"
     ]
    },
    {
     "name": "stdout",
     "output_type": "stream",
     "text": [
      "📍 Calculating route for Alphonse Muller (driving)...\n"
     ]
    },
    {
     "name": "stderr",
     "output_type": "stream",
     "text": [
      "Calculating commutes:  41%|████      | 66/161 [01:53<02:40,  1.69s/it]"
     ]
    },
    {
     "name": "stdout",
     "output_type": "stream",
     "text": [
      "📍 Calculating route for Victor Lemaire (driving)...\n"
     ]
    },
    {
     "name": "stderr",
     "output_type": "stream",
     "text": [
      "Calculating commutes:  42%|████▏     | 67/161 [01:55<02:45,  1.76s/it]"
     ]
    },
    {
     "name": "stdout",
     "output_type": "stream",
     "text": [
      "📍 Calculating route for Julien Samson (driving)...\n"
     ]
    },
    {
     "name": "stderr",
     "output_type": "stream",
     "text": [
      "Calculating commutes:  42%|████▏     | 68/161 [01:57<02:51,  1.84s/it]"
     ]
    },
    {
     "name": "stdout",
     "output_type": "stream",
     "text": [
      "📍 Calculating route for Antoine Cousin (driving)...\n"
     ]
    },
    {
     "name": "stderr",
     "output_type": "stream",
     "text": [
      "Calculating commutes:  43%|████▎     | 69/161 [01:59<02:46,  1.81s/it]"
     ]
    },
    {
     "name": "stdout",
     "output_type": "stream",
     "text": [
      "📍 Calculating route for Alexandre Toussaint (transit)...\n"
     ]
    },
    {
     "name": "stderr",
     "output_type": "stream",
     "text": [
      "Calculating commutes:  43%|████▎     | 70/161 [02:01<02:48,  1.86s/it]"
     ]
    },
    {
     "name": "stdout",
     "output_type": "stream",
     "text": [
      "📍 Calculating route for Astrid Mendes (driving)...\n"
     ]
    },
    {
     "name": "stderr",
     "output_type": "stream",
     "text": [
      "Calculating commutes:  44%|████▍     | 71/161 [02:02<02:30,  1.67s/it]"
     ]
    },
    {
     "name": "stdout",
     "output_type": "stream",
     "text": [
      "📍 Calculating route for Christiane Paul (bicycling)...\n"
     ]
    },
    {
     "name": "stderr",
     "output_type": "stream",
     "text": [
      "Calculating commutes:  45%|████▍     | 72/161 [02:03<02:25,  1.63s/it]"
     ]
    },
    {
     "name": "stdout",
     "output_type": "stream",
     "text": [
      "📍 Calculating route for Charlene Munoz (driving)...\n"
     ]
    },
    {
     "name": "stderr",
     "output_type": "stream",
     "text": [
      "Calculating commutes:  45%|████▌     | 73/161 [02:05<02:25,  1.66s/it]"
     ]
    },
    {
     "name": "stdout",
     "output_type": "stream",
     "text": [
      "📍 Calculating route for Guillaume Leleu (driving)...\n"
     ]
    },
    {
     "name": "stderr",
     "output_type": "stream",
     "text": [
      "Calculating commutes:  46%|████▌     | 74/161 [02:07<02:15,  1.56s/it]"
     ]
    },
    {
     "name": "stdout",
     "output_type": "stream",
     "text": [
      "📍 Calculating route for Alain Navarro (transit)...\n"
     ]
    },
    {
     "name": "stderr",
     "output_type": "stream",
     "text": [
      "Calculating commutes:  47%|████▋     | 75/161 [02:08<02:07,  1.48s/it]"
     ]
    },
    {
     "name": "stdout",
     "output_type": "stream",
     "text": [
      "📍 Calculating route for Thibaut Lefort (bicycling)...\n"
     ]
    },
    {
     "name": "stderr",
     "output_type": "stream",
     "text": [
      "Calculating commutes:  47%|████▋     | 76/161 [02:10<02:24,  1.70s/it]"
     ]
    },
    {
     "name": "stdout",
     "output_type": "stream",
     "text": [
      "📍 Calculating route for Mathilde Lesage (bicycling)...\n"
     ]
    },
    {
     "name": "stderr",
     "output_type": "stream",
     "text": [
      "Calculating commutes:  48%|████▊     | 77/161 [02:12<02:33,  1.83s/it]"
     ]
    },
    {
     "name": "stdout",
     "output_type": "stream",
     "text": [
      "📍 Calculating route for Christiane Fabre (bicycling)...\n"
     ]
    },
    {
     "name": "stderr",
     "output_type": "stream",
     "text": [
      "Calculating commutes:  48%|████▊     | 78/161 [02:14<02:19,  1.68s/it]"
     ]
    },
    {
     "name": "stdout",
     "output_type": "stream",
     "text": [
      "📍 Calculating route for Francis Morin (transit)...\n"
     ]
    },
    {
     "name": "stderr",
     "output_type": "stream",
     "text": [
      "Calculating commutes:  49%|████▉     | 79/161 [02:15<02:17,  1.67s/it]"
     ]
    },
    {
     "name": "stdout",
     "output_type": "stream",
     "text": [
      "📍 Calculating route for Bernard Georges (bicycling)...\n"
     ]
    },
    {
     "name": "stderr",
     "output_type": "stream",
     "text": [
      "Calculating commutes:  50%|████▉     | 80/161 [02:16<02:06,  1.56s/it]"
     ]
    },
    {
     "name": "stdout",
     "output_type": "stream",
     "text": [
      "📍 Calculating route for Philippine Boutin (bicycling)...\n"
     ]
    },
    {
     "name": "stderr",
     "output_type": "stream",
     "text": [
      "Calculating commutes:  50%|█████     | 81/161 [02:19<02:20,  1.76s/it]"
     ]
    },
    {
     "name": "stdout",
     "output_type": "stream",
     "text": [
      "📍 Calculating route for Hugues Besson (walking)...\n"
     ]
    },
    {
     "name": "stderr",
     "output_type": "stream",
     "text": [
      "Calculating commutes:  51%|█████     | 82/161 [02:21<02:22,  1.80s/it]"
     ]
    },
    {
     "name": "stdout",
     "output_type": "stream",
     "text": [
      "📍 Calculating route for Audrey Devaux (bicycling)...\n"
     ]
    },
    {
     "name": "stderr",
     "output_type": "stream",
     "text": [
      "Calculating commutes:  52%|█████▏    | 83/161 [02:22<02:18,  1.78s/it]"
     ]
    },
    {
     "name": "stdout",
     "output_type": "stream",
     "text": [
      "📍 Calculating route for Thomas Jourdan (driving)...\n"
     ]
    },
    {
     "name": "stderr",
     "output_type": "stream",
     "text": [
      "Calculating commutes:  52%|█████▏    | 84/161 [02:24<02:18,  1.79s/it]"
     ]
    },
    {
     "name": "stdout",
     "output_type": "stream",
     "text": [
      "📍 Calculating route for Benjamin Bourgeois (driving)...\n"
     ]
    },
    {
     "name": "stderr",
     "output_type": "stream",
     "text": [
      "Calculating commutes:  53%|█████▎    | 85/161 [02:25<02:03,  1.62s/it]"
     ]
    },
    {
     "name": "stdout",
     "output_type": "stream",
     "text": [
      "📍 Calculating route for Martin Marchand (bicycling)...\n"
     ]
    },
    {
     "name": "stderr",
     "output_type": "stream",
     "text": [
      "Calculating commutes:  53%|█████▎    | 86/161 [02:27<01:59,  1.59s/it]"
     ]
    },
    {
     "name": "stdout",
     "output_type": "stream",
     "text": [
      "📍 Calculating route for Capucine Payet (transit)...\n"
     ]
    },
    {
     "name": "stderr",
     "output_type": "stream",
     "text": [
      "Calculating commutes:  54%|█████▍    | 87/161 [02:29<02:08,  1.74s/it]"
     ]
    },
    {
     "name": "stdout",
     "output_type": "stream",
     "text": [
      "📍 Calculating route for Iris Colin (driving)...\n"
     ]
    },
    {
     "name": "stderr",
     "output_type": "stream",
     "text": [
      "Calculating commutes:  55%|█████▍    | 88/161 [02:31<02:05,  1.72s/it]"
     ]
    },
    {
     "name": "stdout",
     "output_type": "stream",
     "text": [
      "📍 Calculating route for Catherine Ribeiro (driving)...\n"
     ]
    },
    {
     "name": "stderr",
     "output_type": "stream",
     "text": [
      "Calculating commutes:  55%|█████▌    | 89/161 [02:32<02:06,  1.75s/it]"
     ]
    },
    {
     "name": "stdout",
     "output_type": "stream",
     "text": [
      "📍 Calculating route for Henri Boulanger (driving)...\n"
     ]
    },
    {
     "name": "stderr",
     "output_type": "stream",
     "text": [
      "Calculating commutes:  56%|█████▌    | 90/161 [02:34<02:06,  1.79s/it]"
     ]
    },
    {
     "name": "stdout",
     "output_type": "stream",
     "text": [
      "📍 Calculating route for Claudine Pasquier (bicycling)...\n"
     ]
    },
    {
     "name": "stderr",
     "output_type": "stream",
     "text": [
      "Calculating commutes:  57%|█████▋    | 91/161 [02:36<01:58,  1.70s/it]"
     ]
    },
    {
     "name": "stdout",
     "output_type": "stream",
     "text": [
      "📍 Calculating route for André Moreno (bicycling)...\n"
     ]
    },
    {
     "name": "stderr",
     "output_type": "stream",
     "text": [
      "Calculating commutes:  57%|█████▋    | 92/161 [02:37<01:55,  1.68s/it]"
     ]
    },
    {
     "name": "stdout",
     "output_type": "stream",
     "text": [
      "📍 Calculating route for Danielle Delattre (driving)...\n"
     ]
    },
    {
     "name": "stderr",
     "output_type": "stream",
     "text": [
      "Calculating commutes:  58%|█████▊    | 93/161 [02:39<01:53,  1.66s/it]"
     ]
    },
    {
     "name": "stdout",
     "output_type": "stream",
     "text": [
      "📍 Calculating route for Laure Poirier (driving)...\n"
     ]
    },
    {
     "name": "stderr",
     "output_type": "stream",
     "text": [
      "Calculating commutes:  58%|█████▊    | 94/161 [02:40<01:43,  1.54s/it]"
     ]
    },
    {
     "name": "stdout",
     "output_type": "stream",
     "text": [
      "📍 Calculating route for Jules Schneider (transit)...\n"
     ]
    },
    {
     "name": "stderr",
     "output_type": "stream",
     "text": [
      "Calculating commutes:  59%|█████▉    | 95/161 [02:42<01:47,  1.63s/it]"
     ]
    },
    {
     "name": "stdout",
     "output_type": "stream",
     "text": [
      "📍 Calculating route for Susanne Lacroix (walking)...\n"
     ]
    },
    {
     "name": "stderr",
     "output_type": "stream",
     "text": [
      "Calculating commutes:  60%|█████▉    | 96/161 [02:44<01:42,  1.58s/it]"
     ]
    },
    {
     "name": "stdout",
     "output_type": "stream",
     "text": [
      "📍 Calculating route for Caroline Olivier (driving)...\n"
     ]
    },
    {
     "name": "stderr",
     "output_type": "stream",
     "text": [
      "Calculating commutes:  60%|██████    | 97/161 [02:46<01:50,  1.72s/it]"
     ]
    },
    {
     "name": "stdout",
     "output_type": "stream",
     "text": [
      "📍 Calculating route for Colette Delmas (driving)...\n"
     ]
    },
    {
     "name": "stderr",
     "output_type": "stream",
     "text": [
      "Calculating commutes:  61%|██████    | 98/161 [02:48<01:56,  1.84s/it]"
     ]
    },
    {
     "name": "stdout",
     "output_type": "stream",
     "text": [
      "📍 Calculating route for Margaud Legrand (bicycling)...\n"
     ]
    },
    {
     "name": "stderr",
     "output_type": "stream",
     "text": [
      "Calculating commutes:  61%|██████▏   | 99/161 [02:49<01:51,  1.80s/it]"
     ]
    },
    {
     "name": "stdout",
     "output_type": "stream",
     "text": [
      "📍 Calculating route for Juliette Roux (driving)...\n"
     ]
    },
    {
     "name": "stderr",
     "output_type": "stream",
     "text": [
      "Calculating commutes:  62%|██████▏   | 100/161 [02:51<01:52,  1.85s/it]"
     ]
    },
    {
     "name": "stdout",
     "output_type": "stream",
     "text": [
      "📍 Calculating route for Denise Bernard (bicycling)...\n"
     ]
    },
    {
     "name": "stderr",
     "output_type": "stream",
     "text": [
      "Calculating commutes:  63%|██████▎   | 101/161 [02:53<01:52,  1.87s/it]"
     ]
    },
    {
     "name": "stdout",
     "output_type": "stream",
     "text": [
      "📍 Calculating route for Hugues Grenier (bicycling)...\n"
     ]
    },
    {
     "name": "stderr",
     "output_type": "stream",
     "text": [
      "Calculating commutes:  63%|██████▎   | 102/161 [02:55<01:39,  1.69s/it]"
     ]
    },
    {
     "name": "stdout",
     "output_type": "stream",
     "text": [
      "📍 Calculating route for Marine Chauvin (transit)...\n"
     ]
    },
    {
     "name": "stderr",
     "output_type": "stream",
     "text": [
      "Calculating commutes:  64%|██████▍   | 103/161 [02:56<01:39,  1.72s/it]"
     ]
    },
    {
     "name": "stdout",
     "output_type": "stream",
     "text": [
      "📍 Calculating route for Sabine Marchand (bicycling)...\n"
     ]
    },
    {
     "name": "stderr",
     "output_type": "stream",
     "text": [
      "Calculating commutes:  65%|██████▍   | 104/161 [02:59<01:46,  1.86s/it]"
     ]
    },
    {
     "name": "stdout",
     "output_type": "stream",
     "text": [
      "📍 Calculating route for Nicole Durand (bicycling)...\n"
     ]
    },
    {
     "name": "stderr",
     "output_type": "stream",
     "text": [
      "Calculating commutes:  65%|██████▌   | 105/161 [03:00<01:34,  1.69s/it]"
     ]
    },
    {
     "name": "stdout",
     "output_type": "stream",
     "text": [
      "📍 Calculating route for Charles Devaux (transit)...\n"
     ]
    },
    {
     "name": "stderr",
     "output_type": "stream",
     "text": [
      "Calculating commutes:  66%|██████▌   | 106/161 [03:02<01:39,  1.80s/it]"
     ]
    },
    {
     "name": "stdout",
     "output_type": "stream",
     "text": [
      "📍 Calculating route for Valérie Guillou (bicycling)...\n"
     ]
    },
    {
     "name": "stderr",
     "output_type": "stream",
     "text": [
      "Calculating commutes:  66%|██████▋   | 107/161 [03:03<01:31,  1.69s/it]"
     ]
    },
    {
     "name": "stdout",
     "output_type": "stream",
     "text": [
      "📍 Calculating route for Sébastien Leconte (driving)...\n"
     ]
    },
    {
     "name": "stderr",
     "output_type": "stream",
     "text": [
      "Calculating commutes:  67%|██████▋   | 108/161 [03:05<01:31,  1.73s/it]"
     ]
    },
    {
     "name": "stdout",
     "output_type": "stream",
     "text": [
      "📍 Calculating route for Luc Leleu (bicycling)...\n"
     ]
    },
    {
     "name": "stderr",
     "output_type": "stream",
     "text": [
      "Calculating commutes:  68%|██████▊   | 109/161 [03:07<01:32,  1.78s/it]"
     ]
    },
    {
     "name": "stdout",
     "output_type": "stream",
     "text": [
      "📍 Calculating route for Dominique Klein (transit)...\n"
     ]
    },
    {
     "name": "stderr",
     "output_type": "stream",
     "text": [
      "Calculating commutes:  68%|██████▊   | 110/161 [03:09<01:33,  1.84s/it]"
     ]
    },
    {
     "name": "stdout",
     "output_type": "stream",
     "text": [
      "📍 Calculating route for Margot Perrot (driving)...\n"
     ]
    },
    {
     "name": "stderr",
     "output_type": "stream",
     "text": [
      "Calculating commutes:  69%|██████▉   | 111/161 [03:11<01:25,  1.71s/it]"
     ]
    },
    {
     "name": "stdout",
     "output_type": "stream",
     "text": [
      "📍 Calculating route for Gilles Baudry (bicycling)...\n"
     ]
    },
    {
     "name": "stderr",
     "output_type": "stream",
     "text": [
      "Calculating commutes:  70%|██████▉   | 112/161 [03:12<01:27,  1.78s/it]"
     ]
    },
    {
     "name": "stdout",
     "output_type": "stream",
     "text": [
      "📍 Calculating route for Luc Gonzalez (driving)...\n"
     ]
    },
    {
     "name": "stderr",
     "output_type": "stream",
     "text": [
      "Calculating commutes:  70%|███████   | 113/161 [03:14<01:17,  1.61s/it]"
     ]
    },
    {
     "name": "stdout",
     "output_type": "stream",
     "text": [
      "📍 Calculating route for Gabriel Fontaine (bicycling)...\n"
     ]
    },
    {
     "name": "stderr",
     "output_type": "stream",
     "text": [
      "Calculating commutes:  71%|███████   | 114/161 [03:16<01:21,  1.74s/it]"
     ]
    },
    {
     "name": "stdout",
     "output_type": "stream",
     "text": [
      "📍 Calculating route for Andréa Wagner (driving)...\n"
     ]
    },
    {
     "name": "stderr",
     "output_type": "stream",
     "text": [
      "Calculating commutes:  71%|███████▏  | 115/161 [03:17<01:13,  1.60s/it]"
     ]
    },
    {
     "name": "stdout",
     "output_type": "stream",
     "text": [
      "📍 Calculating route for Théodore Maillet (transit)...\n"
     ]
    },
    {
     "name": "stderr",
     "output_type": "stream",
     "text": [
      "Calculating commutes:  72%|███████▏  | 116/161 [03:18<01:07,  1.50s/it]"
     ]
    },
    {
     "name": "stdout",
     "output_type": "stream",
     "text": [
      "📍 Calculating route for Benjamin Pichon (driving)...\n"
     ]
    },
    {
     "name": "stderr",
     "output_type": "stream",
     "text": [
      "Calculating commutes:  73%|███████▎  | 117/161 [03:20<01:05,  1.49s/it]"
     ]
    },
    {
     "name": "stdout",
     "output_type": "stream",
     "text": [
      "📍 Calculating route for Simon Verdier (driving)...\n"
     ]
    },
    {
     "name": "stderr",
     "output_type": "stream",
     "text": [
      "Calculating commutes:  73%|███████▎  | 118/161 [03:21<01:04,  1.49s/it]"
     ]
    },
    {
     "name": "stdout",
     "output_type": "stream",
     "text": [
      "📍 Calculating route for Alain Da Costa (driving)...\n"
     ]
    },
    {
     "name": "stderr",
     "output_type": "stream",
     "text": [
      "Calculating commutes:  74%|███████▍  | 119/161 [03:23<01:11,  1.70s/it]"
     ]
    },
    {
     "name": "stdout",
     "output_type": "stream",
     "text": [
      "📍 Calculating route for Aurélien Morin (transit)...\n"
     ]
    },
    {
     "name": "stderr",
     "output_type": "stream",
     "text": [
      "Calculating commutes:  75%|███████▍  | 120/161 [03:25<01:06,  1.63s/it]"
     ]
    },
    {
     "name": "stdout",
     "output_type": "stream",
     "text": [
      "📍 Calculating route for Marcelle Jean (bicycling)...\n"
     ]
    },
    {
     "name": "stderr",
     "output_type": "stream",
     "text": [
      "Calculating commutes:  75%|███████▌  | 121/161 [03:26<01:04,  1.62s/it]"
     ]
    },
    {
     "name": "stdout",
     "output_type": "stream",
     "text": [
      "📍 Calculating route for Aurélie Petitjean (driving)...\n"
     ]
    },
    {
     "name": "stderr",
     "output_type": "stream",
     "text": [
      "Calculating commutes:  76%|███████▌  | 122/161 [03:28<01:01,  1.58s/it]"
     ]
    },
    {
     "name": "stdout",
     "output_type": "stream",
     "text": [
      "📍 Calculating route for Emmanuelle Torres (bicycling)...\n"
     ]
    },
    {
     "name": "stderr",
     "output_type": "stream",
     "text": [
      "Calculating commutes:  76%|███████▋  | 123/161 [03:29<00:59,  1.56s/it]"
     ]
    },
    {
     "name": "stdout",
     "output_type": "stream",
     "text": [
      "📍 Calculating route for Damien Menard (driving)...\n"
     ]
    },
    {
     "name": "stderr",
     "output_type": "stream",
     "text": [
      "Calculating commutes:  77%|███████▋  | 124/161 [03:31<00:53,  1.46s/it]"
     ]
    },
    {
     "name": "stdout",
     "output_type": "stream",
     "text": [
      "📍 Calculating route for Alfred Meyer (driving)...\n"
     ]
    },
    {
     "name": "stderr",
     "output_type": "stream",
     "text": [
      "Calculating commutes:  78%|███████▊  | 125/161 [03:33<01:00,  1.67s/it]"
     ]
    },
    {
     "name": "stdout",
     "output_type": "stream",
     "text": [
      "📍 Calculating route for Emmanuelle Faure (driving)...\n"
     ]
    },
    {
     "name": "stderr",
     "output_type": "stream",
     "text": [
      "Calculating commutes:  78%|███████▊  | 126/161 [03:34<00:57,  1.63s/it]"
     ]
    },
    {
     "name": "stdout",
     "output_type": "stream",
     "text": [
      "📍 Calculating route for Lucas Gilbert (bicycling)...\n"
     ]
    },
    {
     "name": "stderr",
     "output_type": "stream",
     "text": [
      "Calculating commutes:  79%|███████▉  | 127/161 [03:37<01:00,  1.78s/it]"
     ]
    },
    {
     "name": "stdout",
     "output_type": "stream",
     "text": [
      "📍 Calculating route for Génée Boutin (driving)...\n"
     ]
    },
    {
     "name": "stderr",
     "output_type": "stream",
     "text": [
      "Calculating commutes:  80%|███████▉  | 128/161 [03:39<01:01,  1.87s/it]"
     ]
    },
    {
     "name": "stdout",
     "output_type": "stream",
     "text": [
      "📍 Calculating route for Capucine Gosselin (bicycling)...\n"
     ]
    },
    {
     "name": "stderr",
     "output_type": "stream",
     "text": [
      "Calculating commutes:  80%|████████  | 129/161 [03:40<00:54,  1.71s/it]"
     ]
    },
    {
     "name": "stdout",
     "output_type": "stream",
     "text": [
      "📍 Calculating route for Daniel Gomez (driving)...\n"
     ]
    },
    {
     "name": "stderr",
     "output_type": "stream",
     "text": [
      "Calculating commutes:  81%|████████  | 130/161 [03:42<00:53,  1.72s/it]"
     ]
    },
    {
     "name": "stdout",
     "output_type": "stream",
     "text": [
      "📍 Calculating route for Gégoire Guillot (walking)...\n"
     ]
    },
    {
     "name": "stderr",
     "output_type": "stream",
     "text": [
      "Calculating commutes:  81%|████████▏ | 131/161 [03:44<00:53,  1.77s/it]"
     ]
    },
    {
     "name": "stdout",
     "output_type": "stream",
     "text": [
      "📍 Calculating route for Sébastien Lacroix (transit)...\n"
     ]
    },
    {
     "name": "stderr",
     "output_type": "stream",
     "text": [
      "Calculating commutes:  82%|████████▏ | 132/161 [03:45<00:47,  1.65s/it]"
     ]
    },
    {
     "name": "stdout",
     "output_type": "stream",
     "text": [
      "📍 Calculating route for Emmanuel Marchand (driving)...\n"
     ]
    },
    {
     "name": "stderr",
     "output_type": "stream",
     "text": [
      "Calculating commutes:  83%|████████▎ | 133/161 [03:47<00:46,  1.66s/it]"
     ]
    },
    {
     "name": "stdout",
     "output_type": "stream",
     "text": [
      "📍 Calculating route for William Hernandez (driving)...\n"
     ]
    },
    {
     "name": "stderr",
     "output_type": "stream",
     "text": [
      "Calculating commutes:  83%|████████▎ | 134/161 [03:48<00:44,  1.67s/it]"
     ]
    },
    {
     "name": "stdout",
     "output_type": "stream",
     "text": [
      "📍 Calculating route for William Lefebvre (driving)...\n"
     ]
    },
    {
     "name": "stderr",
     "output_type": "stream",
     "text": [
      "Calculating commutes:  84%|████████▍ | 135/161 [03:50<00:42,  1.63s/it]"
     ]
    },
    {
     "name": "stdout",
     "output_type": "stream",
     "text": [
      "📍 Calculating route for Julie Lambert (driving)...\n"
     ]
    },
    {
     "name": "stderr",
     "output_type": "stream",
     "text": [
      "Calculating commutes:  84%|████████▍ | 136/161 [03:51<00:38,  1.52s/it]"
     ]
    },
    {
     "name": "stdout",
     "output_type": "stream",
     "text": [
      "📍 Calculating route for Bertrand Grondin (bicycling)...\n"
     ]
    },
    {
     "name": "stderr",
     "output_type": "stream",
     "text": [
      "Calculating commutes:  85%|████████▌ | 137/161 [03:52<00:34,  1.42s/it]"
     ]
    },
    {
     "name": "stdout",
     "output_type": "stream",
     "text": [
      "📍 Calculating route for Bertrand Renard (driving)...\n"
     ]
    },
    {
     "name": "stderr",
     "output_type": "stream",
     "text": [
      "Calculating commutes:  86%|████████▌ | 138/161 [03:54<00:32,  1.40s/it]"
     ]
    },
    {
     "name": "stdout",
     "output_type": "stream",
     "text": [
      "📍 Calculating route for Nath Lebon (bicycling)...\n"
     ]
    },
    {
     "name": "stderr",
     "output_type": "stream",
     "text": [
      "Calculating commutes:  86%|████████▋ | 139/161 [03:55<00:32,  1.46s/it]"
     ]
    },
    {
     "name": "stdout",
     "output_type": "stream",
     "text": [
      "📍 Calculating route for Juliette Raymond (driving)...\n"
     ]
    },
    {
     "name": "stderr",
     "output_type": "stream",
     "text": [
      "Calculating commutes:  87%|████████▋ | 140/161 [03:57<00:30,  1.44s/it]"
     ]
    },
    {
     "name": "stdout",
     "output_type": "stream",
     "text": [
      "📍 Calculating route for Simone Gosselin (bicycling)...\n"
     ]
    },
    {
     "name": "stderr",
     "output_type": "stream",
     "text": [
      "Calculating commutes:  88%|████████▊ | 141/161 [03:58<00:28,  1.45s/it]"
     ]
    },
    {
     "name": "stdout",
     "output_type": "stream",
     "text": [
      "📍 Calculating route for Alain Dupré (driving)...\n"
     ]
    },
    {
     "name": "stderr",
     "output_type": "stream",
     "text": [
      "Calculating commutes:  88%|████████▊ | 142/161 [04:00<00:27,  1.46s/it]"
     ]
    },
    {
     "name": "stdout",
     "output_type": "stream",
     "text": [
      "📍 Calculating route for Joseph Delattre (driving)...\n"
     ]
    },
    {
     "name": "stderr",
     "output_type": "stream",
     "text": [
      "Calculating commutes:  89%|████████▉ | 143/161 [04:01<00:28,  1.56s/it]"
     ]
    },
    {
     "name": "stdout",
     "output_type": "stream",
     "text": [
      "📍 Calculating route for Claire Da Silva (driving)...\n"
     ]
    },
    {
     "name": "stderr",
     "output_type": "stream",
     "text": [
      "Calculating commutes:  89%|████████▉ | 144/161 [04:04<00:31,  1.83s/it]"
     ]
    },
    {
     "name": "stdout",
     "output_type": "stream",
     "text": [
      "📍 Calculating route for Anais Benard (transit)...\n"
     ]
    },
    {
     "name": "stderr",
     "output_type": "stream",
     "text": [
      "Calculating commutes:  90%|█████████ | 145/161 [04:05<00:26,  1.66s/it]"
     ]
    },
    {
     "name": "stdout",
     "output_type": "stream",
     "text": [
      "📍 Calculating route for Suzanne Munoz (driving)...\n"
     ]
    },
    {
     "name": "stderr",
     "output_type": "stream",
     "text": [
      "Calculating commutes:  91%|█████████ | 146/161 [04:07<00:27,  1.82s/it]"
     ]
    },
    {
     "name": "stdout",
     "output_type": "stream",
     "text": [
      "📍 Calculating route for Marie Hernandez (driving)...\n"
     ]
    },
    {
     "name": "stderr",
     "output_type": "stream",
     "text": [
      "Calculating commutes:  91%|█████████▏| 147/161 [04:09<00:24,  1.75s/it]"
     ]
    },
    {
     "name": "stdout",
     "output_type": "stream",
     "text": [
      "📍 Calculating route for Roger Techer (walking)...\n"
     ]
    },
    {
     "name": "stderr",
     "output_type": "stream",
     "text": [
      "Calculating commutes:  92%|█████████▏| 148/161 [04:10<00:21,  1.65s/it]"
     ]
    },
    {
     "name": "stdout",
     "output_type": "stream",
     "text": [
      "📍 Calculating route for Laurence Morvan (bicycling)...\n"
     ]
    },
    {
     "name": "stderr",
     "output_type": "stream",
     "text": [
      "Calculating commutes:  93%|█████████▎| 149/161 [04:12<00:21,  1.76s/it]"
     ]
    },
    {
     "name": "stdout",
     "output_type": "stream",
     "text": [
      "📍 Calculating route for Marguerite Carre (walking)...\n"
     ]
    },
    {
     "name": "stderr",
     "output_type": "stream",
     "text": [
      "Calculating commutes:  93%|█████████▎| 150/161 [04:14<00:20,  1.83s/it]"
     ]
    },
    {
     "name": "stdout",
     "output_type": "stream",
     "text": [
      "📍 Calculating route for René Marchand (transit)...\n"
     ]
    },
    {
     "name": "stderr",
     "output_type": "stream",
     "text": [
      "Calculating commutes:  94%|█████████▍| 151/161 [04:16<00:16,  1.63s/it]"
     ]
    },
    {
     "name": "stdout",
     "output_type": "stream",
     "text": [
      "📍 Calculating route for Nathalie Colas (bicycling)...\n"
     ]
    },
    {
     "name": "stderr",
     "output_type": "stream",
     "text": [
      "Calculating commutes:  94%|█████████▍| 152/161 [04:17<00:13,  1.55s/it]"
     ]
    },
    {
     "name": "stdout",
     "output_type": "stream",
     "text": [
      "📍 Calculating route for Margaud Godard (bicycling)...\n"
     ]
    },
    {
     "name": "stderr",
     "output_type": "stream",
     "text": [
      "Calculating commutes:  95%|█████████▌| 153/161 [04:19<00:12,  1.62s/it]"
     ]
    },
    {
     "name": "stdout",
     "output_type": "stream",
     "text": [
      "📍 Calculating route for TimothÃ©e Tanguy (walking)...\n"
     ]
    },
    {
     "name": "stderr",
     "output_type": "stream",
     "text": [
      "Calculating commutes:  96%|█████████▌| 154/161 [04:20<00:10,  1.51s/it]"
     ]
    },
    {
     "name": "stdout",
     "output_type": "stream",
     "text": [
      "📍 Calculating route for Michel Normand (bicycling)...\n"
     ]
    },
    {
     "name": "stderr",
     "output_type": "stream",
     "text": [
      "Calculating commutes:  96%|█████████▋| 155/161 [04:22<00:10,  1.69s/it]"
     ]
    },
    {
     "name": "stdout",
     "output_type": "stream",
     "text": [
      "📍 Calculating route for Sylvain Renard (bicycling)...\n"
     ]
    },
    {
     "name": "stderr",
     "output_type": "stream",
     "text": [
      "Calculating commutes:  97%|█████████▋| 156/161 [04:23<00:07,  1.57s/it]"
     ]
    },
    {
     "name": "stdout",
     "output_type": "stream",
     "text": [
      "📍 Calculating route for Gilles Guillou (bicycling)...\n"
     ]
    },
    {
     "name": "stderr",
     "output_type": "stream",
     "text": [
      "Calculating commutes:  98%|█████████▊| 157/161 [04:25<00:06,  1.63s/it]"
     ]
    },
    {
     "name": "stdout",
     "output_type": "stream",
     "text": [
      "📍 Calculating route for Jeannine Breton (walking)...\n"
     ]
    },
    {
     "name": "stderr",
     "output_type": "stream",
     "text": [
      "Calculating commutes:  98%|█████████▊| 158/161 [04:27<00:04,  1.61s/it]"
     ]
    },
    {
     "name": "stdout",
     "output_type": "stream",
     "text": [
      "📍 Calculating route for Philippe Delahaye (driving)...\n"
     ]
    },
    {
     "name": "stderr",
     "output_type": "stream",
     "text": [
      "Calculating commutes:  99%|█████████▉| 159/161 [04:29<00:03,  1.69s/it]"
     ]
    },
    {
     "name": "stdout",
     "output_type": "stream",
     "text": [
      "📍 Calculating route for Odette Dumas (driving)...\n"
     ]
    },
    {
     "name": "stderr",
     "output_type": "stream",
     "text": [
      "Calculating commutes:  99%|█████████▉| 160/161 [04:30<00:01,  1.56s/it]"
     ]
    },
    {
     "name": "stdout",
     "output_type": "stream",
     "text": [
      "📍 Calculating route for Henri Pineau (bicycling)...\n"
     ]
    },
    {
     "name": "stderr",
     "output_type": "stream",
     "text": [
      "Calculating commutes: 100%|██████████| 161/161 [04:31<00:00,  1.69s/it]\n"
     ]
    },
    {
     "name": "stdout",
     "output_type": "stream",
     "text": [
      "------------------------------------------------------------\n",
      "✅ Processing complete!\n",
      "📊 Success: 161, Failed: 0\n",
      "📈 Success rate: 100.0%\n",
      "\n",
      "💾 Saving results to employee_commutes.csv...\n",
      "\n",
      "📋 Results summary:\n",
      "Employees with successful commute calculation: 161\n",
      "Average distance: 19.6 km\n",
      "Average duration: 00:28:00\n",
      "\n",
      "👤 First 5 employees with commute info:\n",
      "      Nom   Prénom                            Adresse du domicile          Moyen de déplacement  Distance_km Duree_hhmmss\n",
      "    Colin   Audrey              128 Rue du Port, 34000 Frontignan          Transports en commun         26.8     00:43:00\n",
      "   Ledoux  Monique 68 Rue du Port, 34970 Saint-Clément-de-Rivière véhicule thermique/électrique         22.6     00:30:00\n",
      "   Dumont Michelle                100 Av. de la Gare, 30900 Nîmes véhicule thermique/électrique         48.7     00:35:00\n",
      "Toussaint   Judith                53 Av. de la Gare, 34970 Lattes                Marche/running          1.6     00:22:00\n",
      "   Bailly Michelle                74 Rue des Fleurs, 34970 Lattes                Marche/running          0.3     00:04:00\n",
      "\n",
      "🎉 All done! File saved as: employee_commutes.csv\n"
     ]
    }
   ],
   "source": [
    "import pandas as pd\n",
    "import numpy as np\n",
    "import googlemaps\n",
    "from datetime import datetime\n",
    "from typing import Optional, Dict, List, Tuple\n",
    "import functools\n",
    "import json\n",
    "import time\n",
    "import random\n",
    "from tqdm import tqdm\n",
    "\n",
    "# === CONFIGURATION ===\n",
    "# Load API key\n",
    "try:\n",
    "    with open(\"secret.json\") as f:\n",
    "        secrets = json.load(f)\n",
    "    API_KEY = secrets.get(\"GOOGLE_API_KEY\")\n",
    "    if not API_KEY:\n",
    "        raise ValueError(\"API key not found in secret.json\")\n",
    "except FileNotFoundError:\n",
    "    raise FileNotFoundError(\"secret.json not found. Please add your API key.\")\n",
    "\n",
    "# Company address\n",
    "company_address = \"1362 Av. des Platanes, 34970 Lattes\"\n",
    "\n",
    "# === GOOGLE MAPS FUNCTIONS ===\n",
    "# Cache decorator for API calls\n",
    "def cache_results(func):\n",
    "    \"\"\"Simple memoization decorator to cache API responses\"\"\"\n",
    "    cache = {}\n",
    "    \n",
    "    @functools.wraps(func)\n",
    "    def wrapper(*args, **kwargs):\n",
    "        # Skip client object for cache key\n",
    "        key_args = args[1:]  # Skip client (first arg)\n",
    "        cache_key = str(key_args) + str(sorted(kwargs.items()))\n",
    "        if cache_key not in cache:\n",
    "            cache[cache_key] = func(*args, **kwargs)\n",
    "        return cache[cache_key]\n",
    "    return wrapper\n",
    "\n",
    "@cache_results\n",
    "def geocode_address(client: googlemaps.Client, address: str) -> Optional[Tuple[float, float]]:\n",
    "    \"\"\"Convert address to coordinates using Geocoding API\"\"\"\n",
    "    try:\n",
    "        result = client.geocode(address)\n",
    "        if result:\n",
    "            location = result[0]['geometry']['location']\n",
    "            return (location['lat'], location['lng'])\n",
    "    except Exception as e:\n",
    "        print(f\"Geocoding failed for '{address}': {str(e)}\")\n",
    "    return None\n",
    "\n",
    "def calculate_route(\n",
    "    client: googlemaps.Client,\n",
    "    origin: str,\n",
    "    destination: str,\n",
    "    mode: str = \"driving\",\n",
    "    alternatives: bool = False,\n",
    "    units: str = \"metric\"\n",
    ") -> Optional[Dict]:\n",
    "    \"\"\"Calculate route between two locations using Routes API\"\"\"\n",
    "    try:\n",
    "        directions = client.directions(\n",
    "            origin,\n",
    "            destination,\n",
    "            mode=mode,\n",
    "            departure_time=datetime.now(),\n",
    "            alternatives=alternatives,\n",
    "            units=units\n",
    "        )\n",
    "        \n",
    "        if not directions:\n",
    "            return None\n",
    "            \n",
    "        primary_route = directions[0]\n",
    "        leg = primary_route['legs'][0]\n",
    "        \n",
    "        result = {\n",
    "            \"origin\": leg['start_address'],\n",
    "            \"destination\": leg['end_address'],\n",
    "            \"distance\": leg['distance']['text'],\n",
    "            \"distance_meters\": leg['distance']['value'],\n",
    "            \"duration\": leg['duration']['text'],\n",
    "            \"duration_seconds\": leg['duration']['value'],\n",
    "            \"travel_mode\": mode.upper(),\n",
    "            \"steps\": [{\n",
    "                \"instruction\": step['html_instructions'],\n",
    "                \"distance\": step['distance']['text'],\n",
    "                \"duration\": step['duration']['text']\n",
    "            } for step in leg['steps']]\n",
    "        }\n",
    "        \n",
    "        if alternatives and len(directions) > 1:\n",
    "            result[\"alternatives\"] = [{\n",
    "                \"summary\": alt['summary'],\n",
    "                \"distance\": alt['legs'][0]['distance']['text'],\n",
    "                \"duration\": alt['legs'][0]['duration']['text']\n",
    "            } for alt in directions[1:]]\n",
    "        \n",
    "        return result\n",
    "        \n",
    "    except Exception as e:\n",
    "        print(f\"Route calculation failed for {mode} mode: {str(e)}\")\n",
    "        return None\n",
    "\n",
    "def get_route_between_addresses(\n",
    "    client: googlemaps.Client,\n",
    "    origin_address: str,\n",
    "    destination_address: str,\n",
    "    **kwargs\n",
    ") -> Optional[Dict]:\n",
    "    \"\"\"Higher-level function that handles geocoding and routing\"\"\"\n",
    "    origin_coords = geocode_address(client, origin_address)\n",
    "    destination_coords = geocode_address(client, destination_address)\n",
    "    \n",
    "    if not origin_coords or not destination_coords:\n",
    "        print(f\"Could not geocode addresses: {origin_address} -> {destination_address}\")\n",
    "        return None\n",
    "        \n",
    "    return calculate_route(\n",
    "        client,\n",
    "        origin=origin_coords,\n",
    "        destination=destination_coords,\n",
    "        **kwargs\n",
    "    )\n",
    "\n",
    "# === DATA PROCESSING FUNCTIONS ===\n",
    "def parse_duration(duration_text: str) -> str:\n",
    "    \"\"\"Convert Google Maps duration to hh:mm:ss format\"\"\"\n",
    "    try:\n",
    "        # Handle formats like \"5 hours 36 mins\", \"33 mins\", \"1 day 2 hours\", etc.\n",
    "        parts = duration_text.split()\n",
    "        hours = 0\n",
    "        minutes = 0\n",
    "        seconds = 0\n",
    "        \n",
    "        for i in range(len(parts)):\n",
    "            if parts[i].isdigit():\n",
    "                value = int(parts[i])\n",
    "                if i + 1 < len(parts):\n",
    "                    if 'hour' in parts[i+1] or 'heure' in parts[i+1]:\n",
    "                        hours = value\n",
    "                    elif 'min' in parts[i+1] or 'minute' in parts[i+1]:\n",
    "                        minutes = value\n",
    "                    elif 'day' in parts[i+1] or 'jour' in parts[i+1]:\n",
    "                        hours = value * 24\n",
    "                    elif 'sec' in parts[i+1] or 'seconde' in parts[i+1]:\n",
    "                        seconds = value\n",
    "        \n",
    "        # Format as hh:mm:ss\n",
    "        return f\"{hours:02d}:{minutes:02d}:{seconds:02d}\"\n",
    "    except Exception as e:\n",
    "        print(f\"Error parsing duration '{duration_text}': {e}\")\n",
    "        return \"00:00:00\"\n",
    "\n",
    "def parse_distance(distance_text: str) -> float:\n",
    "    \"\"\"Extract distance in km from Google Maps response\"\"\"\n",
    "    try:\n",
    "        # Handle formats like \"24.6 km\", \"300 m\", \"1.2 mi\"\n",
    "        if 'km' in distance_text:\n",
    "            return float(distance_text.split()[0].replace(',', '.'))\n",
    "        elif 'm' in distance_text:\n",
    "            return float(distance_text.split()[0].replace(',', '.')) / 1000\n",
    "        elif 'mi' in distance_text:\n",
    "            # Convert miles to km\n",
    "            return float(distance_text.split()[0].replace(',', '.')) * 1.60934\n",
    "        else:\n",
    "            # Assume km if no unit specified\n",
    "            return float(distance_text.split()[0].replace(',', '.'))\n",
    "    except Exception as e:\n",
    "        print(f\"Error parsing distance '{distance_text}': {e}\")\n",
    "        return 0.0\n",
    "\n",
    "def get_employee_commute(row: pd.Series, company_addr: str) -> Dict:\n",
    "    \"\"\"Calculate commute for a single employee with better error handling\"\"\"\n",
    "    # Map transportation modes to Google Maps modes\n",
    "    transport_mapping = {\n",
    "        'Transports en commun': 'transit',\n",
    "        'véhicule thermique/électrique': 'driving',\n",
    "        'Marche/running': 'walking',\n",
    "        'Vélo/Trottinette/Autres': 'bicycling'\n",
    "    }\n",
    "    \n",
    "    try:\n",
    "        employee_name = f\"{row.get('Prénom', 'Unknown')} {row.get('Nom', 'Unknown')}\"\n",
    "        home_address = row.get('Adresse du domicile', '')\n",
    "        \n",
    "        if not home_address:\n",
    "            print(f\"⚠️  No address found for {employee_name}\")\n",
    "            return {\n",
    "                'Distance_km': None,\n",
    "                'Duree_hhmmss': \"00:00:00\",\n",
    "                'Success': False\n",
    "            }\n",
    "        \n",
    "        mode = transport_mapping.get(row.get('Moyen de déplacement', ''), 'driving')\n",
    "        \n",
    "        print(f\"📍 Calculating route for {employee_name} ({mode})...\")\n",
    "        \n",
    "        # Get route using your existing function\n",
    "        result = get_route_between_addresses(\n",
    "            client=client,\n",
    "            origin_address=home_address,\n",
    "            destination_address=company_addr,\n",
    "            mode=mode,\n",
    "            alternatives=False\n",
    "        )\n",
    "        \n",
    "        if result:\n",
    "            return {\n",
    "                'Distance_km': parse_distance(result['distance']),\n",
    "                'Duree_hhmmss': parse_duration(result['duration']),\n",
    "                'Success': True\n",
    "            }\n",
    "        else:\n",
    "            print(f\"❌ No route found for {employee_name}\")\n",
    "            return {\n",
    "                'Distance_km': None,\n",
    "                'Duree_hhmmss': \"00:00:00\",\n",
    "                'Success': False\n",
    "            }\n",
    "            \n",
    "    except Exception as e:\n",
    "        print(f\"❌ Error processing {row.get('Nom', 'Unknown')} {row.get('Prénom', 'Unknown')}: {str(e)}\")\n",
    "        return {\n",
    "            'Distance_km': None,\n",
    "            'Duree_hhmmss': \"00:00:00\",\n",
    "            'Success': False\n",
    "        }\n",
    "\n",
    "def calculate_all_commutes(df: pd.DataFrame, company_addr: str) -> pd.DataFrame:\n",
    "    \"\"\"Calculate commutes for all employees and return enhanced DataFrame\"\"\"\n",
    "    \n",
    "    # Initialize Google Maps client\n",
    "    global client\n",
    "    client = googlemaps.Client(key=API_KEY)\n",
    "    \n",
    "    results = []\n",
    "    successful_calls = 0\n",
    "    failed_calls = 0\n",
    "    \n",
    "    print(f\"🚀 Starting commute calculation for {len(df)} employees...\")\n",
    "    print(f\"🏢 Company address: {company_addr}\")\n",
    "    print(\"-\" * 60)\n",
    "    \n",
    "    for idx, row in tqdm(df.iterrows(), total=len(df), desc=\"Calculating commutes\"):\n",
    "        try:\n",
    "            commute_data = get_employee_commute(row, company_addr)\n",
    "            \n",
    "            if commute_data['Success']:\n",
    "                successful_calls += 1\n",
    "            else:\n",
    "                failed_calls += 1\n",
    "                \n",
    "            results.append(commute_data)\n",
    "            \n",
    "            # Rate limiting to avoid API quota issues\n",
    "            time.sleep(random.uniform(1.0, 2.0))\n",
    "            \n",
    "        except Exception as e:\n",
    "            print(f\"💥 Critical error processing row {idx}: {e}\")\n",
    "            results.append({\n",
    "                'Distance_km': None,\n",
    "                'Duree_hhmmss': \"00:00:00\",\n",
    "                'Success': False\n",
    "            })\n",
    "            failed_calls += 1\n",
    "    \n",
    "    # Add results to DataFrame\n",
    "    df_result = df.copy()\n",
    "    df_result['Distance_km'] = [r['Distance_km'] for r in results]\n",
    "    df_result['Duree_hhmmss'] = [r['Duree_hhmmss'] for r in results]\n",
    "    df_result['Commute_Success'] = [r['Success'] for r in results]\n",
    "    \n",
    "    print(\"-\" * 60)\n",
    "    print(f\"✅ Processing complete!\")\n",
    "    print(f\"📊 Success: {successful_calls}, Failed: {failed_calls}\")\n",
    "    print(f\"📈 Success rate: {(successful_calls/len(df))*100:.1f}%\")\n",
    "    \n",
    "    return df_result\n",
    "\n",
    "# === MAIN EXECUTION ===\n",
    "def main():\n",
    "    # Load data\n",
    "    print(\"📂 Loading data files...\")\n",
    "    rh_path = \"../data/DonneesRH.xlsx\"\n",
    "    sport_path = \"../data/DonneesSportive.xlsx\"\n",
    "    \n",
    "    df_rh = pd.read_excel(rh_path)\n",
    "    df_sport = pd.read_excel(sport_path)\n",
    "    \n",
    "    print(f\"👥 RH data: {len(df_rh)} employees\")\n",
    "    print(f\"🏃 Sport data: {len(df_sport)} employees\")\n",
    "    \n",
    "    # Basic data validation\n",
    "    print(\"\\n🔍 Data validation...\")\n",
    "    print(\"Null values in RH data:\")\n",
    "    print(df_rh.isnull().sum())\n",
    "    print(\"\\nTransport modes available:\")\n",
    "    print(df_rh['Moyen de déplacement'].value_counts())\n",
    "    \n",
    "    # Calculate commutes\n",
    "    df_with_commutes = calculate_all_commutes(df_rh, company_address)\n",
    "    \n",
    "    # Export results\n",
    "    output_file = \"employee_commutes.csv\"\n",
    "    print(f\"\\n💾 Saving results to {output_file}...\")\n",
    "    \n",
    "    # Export all original columns plus the two new ones\n",
    "    df_with_commutes.to_csv(output_file, index=False)\n",
    "    \n",
    "    # Display summary\n",
    "    print(\"\\n📋 Results summary:\")\n",
    "    successful_commutes = df_with_commutes[df_with_commutes['Commute_Success'] == True]\n",
    "    print(f\"Employees with successful commute calculation: {len(successful_commutes)}\")\n",
    "    \n",
    "    if len(successful_commutes) > 0:\n",
    "        print(f\"Average distance: {successful_commutes['Distance_km'].mean():.1f} km\")\n",
    "        print(f\"Average duration: {successful_commutes['Duree_hhmmss'].mode().iloc[0] if not successful_commutes['Duree_hhmmss'].empty else 'N/A'}\")\n",
    "        \n",
    "        print(\"\\n👤 First 5 employees with commute info:\")\n",
    "        display_cols = ['Nom', 'Prénom', 'Adresse du domicile', 'Moyen de déplacement', 'Distance_km', 'Duree_hhmmss']\n",
    "        print(successful_commutes[display_cols].head().to_string(index=False))\n",
    "    \n",
    "    print(f\"\\n🎉 All done! File saved as: {output_file}\")\n",
    "\n",
    "# === TEST FUNCTION ===\n",
    "def test_single_employee():\n",
    "    \"\"\"Test the function with a single employee\"\"\"\n",
    "    print(\"🧪 Testing with single employee...\")\n",
    "    \n",
    "    # Initialize client\n",
    "    global client\n",
    "    client = googlemaps.Client(key=API_KEY)\n",
    "    \n",
    "    # Test address\n",
    "    test_address = \"128 Rue du Port, 34000 Frontignan\"\n",
    "    \n",
    "    # Test different modes\n",
    "    modes = ['driving', 'walking', 'bicycling', 'transit']\n",
    "    \n",
    "    for mode in modes:\n",
    "        print(f\"\\nTesting {mode} mode...\")\n",
    "        result = get_route_between_addresses(\n",
    "            client=client,\n",
    "            origin_address=test_address,\n",
    "            destination_address=company_address,\n",
    "            mode=mode\n",
    "        )\n",
    "        \n",
    "        if result:\n",
    "            distance_km = parse_distance(result['distance'])\n",
    "            duration_hhmmss = parse_duration(result['duration'])\n",
    "            print(f\"✅ {mode}: {distance_km} km, {duration_hhmmss}\")\n",
    "        else:\n",
    "            print(f\"❌ {mode}: No route found\")\n",
    "\n",
    "# Run the script\n",
    "if __name__ == \"__main__\":\n",
    "    # test_single_employee()\n",
    "    main()"
   ]
  },
  {
   "cell_type": "code",
   "execution_count": 7,
   "id": "84848df5",
   "metadata": {},
   "outputs": [
    {
     "name": "stdout",
     "output_type": "stream",
     "text": [
      "🧪 Testing with single employee...\n",
      "\n",
      "Testing driving mode...\n",
      "✅ driving: 26.7 km, 00:29:00\n",
      "\n",
      "Testing walking mode...\n",
      "✅ walking: 24.6 km, 05:36:00\n",
      "\n",
      "Testing bicycling mode...\n",
      "✅ bicycling: 27.9 km, 01:33:00\n",
      "\n",
      "Testing transit mode...\n",
      "✅ transit: 40.5 km, 01:12:00\n"
     ]
    }
   ],
   "source": [
    "test_single_employee()"
   ]
  },
  {
   "cell_type": "code",
   "execution_count": 11,
   "id": "7919b1ed",
   "metadata": {},
   "outputs": [
    {
     "name": "stdout",
     "output_type": "stream",
     "text": [
      "🧪 Testing time comparisons...\n",
      "\n",
      "--- Testing transit mode ---\n",
      "Optimistic: 52 mins\n",
      "Rush hour: 47 mins\n",
      "Time difference: -5 minutes\n",
      "\n",
      "--- Testing driving mode ---\n",
      "Optimistic: 33 mins\n",
      "Rush hour: 37 mins\n",
      "Time difference: 4 minutes\n"
     ]
    }
   ],
   "source": [
    "import pandas as pd\n",
    "import numpy as np\n",
    "import googlemaps\n",
    "from datetime import datetime, timedelta, time as dt_time\n",
    "from typing import Optional, Dict, List, Tuple\n",
    "import functools\n",
    "import json\n",
    "import time\n",
    "import random\n",
    "from tqdm import tqdm\n",
    "\n",
    "# === CONFIGURATION ===\n",
    "try:\n",
    "    with open(\"secret.json\") as f:\n",
    "        secrets = json.load(f)\n",
    "    API_KEY = secrets.get(\"GOOGLE_API_KEY\")\n",
    "    if not API_KEY:\n",
    "        raise ValueError(\"API key not found in secret.json\")\n",
    "except FileNotFoundError:\n",
    "    raise FileNotFoundError(\"secret.json not found.\")\n",
    "\n",
    "company_address = \"1362 Av. des Platanes, 34970 Lattes\"\n",
    "\n",
    "# === IMPROVED ROUTE CALCULATION WITH MULTIPLE TIMES ===\n",
    "def cache_results(func):\n",
    "    cache = {}\n",
    "    \n",
    "    @functools.wraps(func)\n",
    "    def wrapper(*args, **kwargs):\n",
    "        key_args = args[1:]\n",
    "        cache_key = str(key_args) + str(sorted(kwargs.items()))\n",
    "        if cache_key not in cache:\n",
    "            cache[cache_key] = func(*args, **kwargs)\n",
    "        return cache[cache_key]\n",
    "    return wrapper\n",
    "\n",
    "@cache_results\n",
    "def geocode_address(client: googlemaps.Client, address: str) -> Optional[Tuple[float, float]]:\n",
    "    try:\n",
    "        result = client.geocode(address)\n",
    "        if result:\n",
    "            location = result[0]['geometry']['location']\n",
    "            return (location['lat'], location['lng'])\n",
    "    except Exception as e:\n",
    "        print(f\"Geocoding failed for '{address}': {str(e)}\")\n",
    "    return None\n",
    "\n",
    "def calculate_route_with_options(\n",
    "    client: googlemaps.Client,\n",
    "    origin: str,\n",
    "    destination: str,\n",
    "    mode: str = \"driving\",\n",
    "    departure_time: Optional[datetime] = None,\n",
    "    traffic_model: str = \"best_guess\"\n",
    ") -> Optional[Dict]:\n",
    "    \"\"\"Calculate route with specific timing options\"\"\"\n",
    "    try:\n",
    "        api_params = {\n",
    "            'origin': origin,\n",
    "            'destination': destination,\n",
    "            'mode': mode,\n",
    "            'units': 'metric'\n",
    "        }\n",
    "        \n",
    "        # Add departure time and traffic model if provided\n",
    "        if departure_time:\n",
    "            api_params['departure_time'] = departure_time\n",
    "            if mode == 'driving' and traffic_model:\n",
    "                api_params['traffic_model'] = traffic_model\n",
    "        \n",
    "        directions = client.directions(**api_params)\n",
    "        \n",
    "        if not directions:\n",
    "            return None\n",
    "            \n",
    "        primary_route = directions[0]\n",
    "        leg = primary_route['legs'][0]\n",
    "        \n",
    "        # Use traffic duration if available\n",
    "        duration_data = leg.get('duration_in_traffic', leg['duration'])\n",
    "        \n",
    "        result = {\n",
    "            \"origin\": leg['start_address'],\n",
    "            \"destination\": leg['end_address'],\n",
    "            \"distance\": leg['distance']['text'],\n",
    "            \"distance_meters\": leg['distance']['value'],\n",
    "            \"duration\": duration_data['text'],\n",
    "            \"duration_seconds\": duration_data['value'],\n",
    "            \"travel_mode\": mode.upper(),\n",
    "            \"has_traffic_data\": 'duration_in_traffic' in leg,\n",
    "            \"departure_time\": departure_time.isoformat() if departure_time else \"optimistic\"\n",
    "        }\n",
    "        \n",
    "        return result\n",
    "        \n",
    "    except Exception as e:\n",
    "        print(f\"Route calculation failed: {str(e)}\")\n",
    "        return None\n",
    "\n",
    "def get_multiple_route_times(\n",
    "    client: googlemaps.Client,\n",
    "    origin_address: str,\n",
    "    destination_address: str,\n",
    "    mode: str = \"driving\"\n",
    ") -> Dict:\n",
    "    \"\"\"Get both optimistic and rush-hour travel times\"\"\"\n",
    "    \n",
    "    origin_coords = geocode_address(client, origin_address)\n",
    "    destination_coords = geocode_address(client, destination_address)\n",
    "    \n",
    "    if not origin_coords or not destination_coords:\n",
    "        return {\"error\": \"Geocoding failed\"}\n",
    "    \n",
    "    results = {}\n",
    "    \n",
    "    # 1. OPTIMISTIC TIME (no specific time = historical average)\n",
    "    optimistic_route = calculate_route_with_options(\n",
    "        client=client,\n",
    "        origin=origin_coords,\n",
    "        destination=destination_coords,\n",
    "        mode=mode,\n",
    "        departure_time=None,  # No specific time = best-case scenario\n",
    "        traffic_model=None\n",
    "    )\n",
    "    \n",
    "    if optimistic_route:\n",
    "        results['optimistic'] = {\n",
    "            'duration': optimistic_route['duration'],\n",
    "            'duration_seconds': optimistic_route['duration_seconds'],\n",
    "            'distance_km': optimistic_route['distance_meters'] / 1000\n",
    "        }\n",
    "    \n",
    "    # 2. RUSH-HOUR TIME (tomorrow at 8:00 AM)\n",
    "    tomorrow_8am = (datetime.now() + timedelta(days=1)).replace(\n",
    "        hour=8, minute=0, second=0, microsecond=0\n",
    "    )\n",
    "    \n",
    "    rush_hour_route = calculate_route_with_options(\n",
    "        client=client,\n",
    "        origin=origin_coords,\n",
    "        destination=destination_coords,\n",
    "        mode=mode,\n",
    "        departure_time=tomorrow_8am,\n",
    "        traffic_model=\"best_guess\"\n",
    "    )\n",
    "    \n",
    "    if rush_hour_route:\n",
    "        results['rush_hour'] = {\n",
    "            'duration': rush_hour_route['duration'],\n",
    "            'duration_seconds': rush_hour_route['duration_seconds'],\n",
    "            'distance_km': rush_hour_route['distance_meters'] / 1000\n",
    "        }\n",
    "    \n",
    "    # 3. For transit: also get a midday time (better schedules)\n",
    "    if mode == 'transit':\n",
    "        tomorrow_12pm = (datetime.now() + timedelta(days=1)).replace(\n",
    "            hour=12, minute=0, second=0, microsecond=0\n",
    "        )\n",
    "        \n",
    "        midday_route = calculate_route_with_options(\n",
    "            client=client,\n",
    "            origin=origin_coords,\n",
    "            destination=destination_coords,\n",
    "            mode=mode,\n",
    "            departure_time=tomorrow_12pm\n",
    "        )\n",
    "        \n",
    "        if midday_route:\n",
    "            results['midday'] = {\n",
    "                'duration': midday_route['duration'],\n",
    "                'duration_seconds': midday_route['duration_seconds'],\n",
    "                'distance_km': midday_route['distance_meters'] / 1000\n",
    "            }\n",
    "    \n",
    "    return results\n",
    "\n",
    "# === DATA PROCESSING FUNCTIONS ===\n",
    "def parse_duration_from_seconds(total_seconds: int) -> str:\n",
    "    \"\"\"Convert seconds to hh:mm:ss format\"\"\"\n",
    "    hours = total_seconds // 3600\n",
    "    minutes = (total_seconds % 3600) // 60\n",
    "    seconds = total_seconds % 60\n",
    "    return f\"{hours:02d}:{minutes:02d}:{seconds:02d}\"\n",
    "\n",
    "def get_employee_commute_detailed(row: pd.Series, company_addr: str) -> Dict:\n",
    "    \"\"\"Get detailed commute info with multiple time options\"\"\"\n",
    "    \n",
    "    transport_mapping = {\n",
    "        'Transports en commun': 'transit',\n",
    "        'véhicule thermique/électrique': 'driving',\n",
    "        'Marche/running': 'walking',\n",
    "        'Vélo/Trottinette/Autres': 'bicycling'\n",
    "    }\n",
    "    \n",
    "    try:\n",
    "        employee_name = f\"{row.get('Prénom', 'Unknown')} {row.get('Nom', 'Unknown')}\"\n",
    "        home_address = row.get('Adresse du domicile', '')\n",
    "        \n",
    "        if not home_address:\n",
    "            return {\n",
    "                'Distance_km_optimistic': None,\n",
    "                'Duree_hhmmss_optimistic': \"00:00:00\",\n",
    "                'Distance_km_rush_hour': None,\n",
    "                'Duree_hhmmss_rush_hour': \"00:00:00\",\n",
    "                'Success': False\n",
    "            }\n",
    "        \n",
    "        mode = transport_mapping.get(row.get('Moyen de déplacement', ''), 'driving')\n",
    "        \n",
    "        print(f\"📍 Calculating routes for {employee_name} ({mode})...\")\n",
    "        \n",
    "        # Get multiple time estimates\n",
    "        route_times = get_multiple_route_times(\n",
    "            client=client,\n",
    "            origin_address=home_address,\n",
    "            destination_address=company_addr,\n",
    "            mode=mode\n",
    "        )\n",
    "        \n",
    "        if 'error' in route_times:\n",
    "            print(f\"❌ Error for {employee_name}: {route_times['error']}\")\n",
    "            return {\n",
    "                'Distance_km_optimistic': None,\n",
    "                'Duree_hhmmss_optimistic': \"00:00:00\",\n",
    "                'Distance_km_rush_hour': None,\n",
    "                'Duree_hhmmss_rush_hour': \"00:00:00\",\n",
    "                'Success': False\n",
    "            }\n",
    "        \n",
    "        # Extract results\n",
    "        optimistic_data = route_times.get('optimistic', {})\n",
    "        rush_hour_data = route_times.get('rush_hour', {})\n",
    "        \n",
    "        # For transit, prefer midday if available (better schedules)\n",
    "        if mode == 'transit' and 'midday' in route_times:\n",
    "            transit_data = route_times['midday']\n",
    "            print(f\"🚌 {employee_name}: Using midday transit schedule\")\n",
    "        else:\n",
    "            transit_data = rush_hour_data\n",
    "        \n",
    "        result = {\n",
    "            'Distance_km_optimistic': optimistic_data.get('distance_km'),\n",
    "            'Duree_hhmmss_optimistic': parse_duration_from_seconds(optimistic_data.get('duration_seconds', 0)),\n",
    "            'Distance_km_rush_hour': rush_hour_data.get('distance_km') if mode != 'transit' else transit_data.get('distance_km'),\n",
    "            'Duree_hhmmss_rush_hour': parse_duration_from_seconds(\n",
    "                rush_hour_data.get('duration_seconds', 0) if mode != 'transit' else transit_data.get('duration_seconds', 0)\n",
    "            ),\n",
    "            'Success': True\n",
    "        }\n",
    "        \n",
    "        # Print comparison\n",
    "        if optimistic_data and rush_hour_data:\n",
    "            opt_time = optimistic_data.get('duration', 'N/A')\n",
    "            rush_time = rush_hour_data.get('duration', 'N/A')\n",
    "            print(f\"✅ {employee_name}: Optimistic: {opt_time}, Rush hour: {rush_time}\")\n",
    "        \n",
    "        return result\n",
    "            \n",
    "    except Exception as e:\n",
    "        print(f\"❌ Error processing {employee_name}: {str(e)}\")\n",
    "        return {\n",
    "            'Distance_km_optimistic': None,\n",
    "            'Duree_hhmmss_optimistic': \"00:00:00\",\n",
    "            'Distance_km_rush_hour': None,\n",
    "            'Duree_hhmmss_rush_hour': \"00:00:00\",\n",
    "            'Success': False\n",
    "        }\n",
    "\n",
    "# === MAIN PROCESSING ===\n",
    "def main():\n",
    "    # Load data\n",
    "    print(\"📂 Loading data files...\")\n",
    "    rh_path = \"../data/DonneesRH.xlsx\"\n",
    "    df_rh = pd.read_excel(rh_path)\n",
    "    \n",
    "    # Initialize client\n",
    "    global client\n",
    "    client = googlemaps.Client(key=API_KEY)\n",
    "    \n",
    "    print(f\"👥 Processing {len(df_rh)} employees...\")\n",
    "    print(\"🕐 Calculating both optimistic and rush-hour (8:00 AM) times\")\n",
    "    print(\"-\" * 60)\n",
    "    \n",
    "    results = []\n",
    "    for idx, row in tqdm(df_rh.iterrows(), total=len(df_rh), desc=\"Calculating commutes\"):\n",
    "        commute_data = get_employee_commute_detailed(row, company_address)\n",
    "        results.append(commute_data)\n",
    "        time.sleep(random.uniform(2.0, 3.0))  # Conservative rate limiting\n",
    "    \n",
    "    # Add results to DataFrame\n",
    "    df_rh['Distance_km_optimistic'] = [r['Distance_km_optimistic'] for r in results]\n",
    "    df_rh['Duree_hhmmss_optimistic'] = [r['Duree_hhmmss_optimistic'] for r in results]\n",
    "    df_rh['Distance_km_rush_hour'] = [r['Distance_km_rush_hour'] for r in results]\n",
    "    df_rh['Duree_hhmmss_rush_hour'] = [r['Duree_hhmmss_rush_hour'] for r in results]\n",
    "    df_rh['Commute_Success'] = [r['Success'] for r in results]\n",
    "    \n",
    "    # Export\n",
    "    output_file = \"employee_commutes_detailed.csv\"\n",
    "    df_rh.to_csv(output_file, index=False)\n",
    "    \n",
    "    print(f\"\\n🎉 Done! File saved as: {output_file}\")\n",
    "    \n",
    "    # Show summary\n",
    "    successful = df_rh[df_rh['Commute_Success'] == True]\n",
    "    print(f\"📊 Successful calculations: {len(successful)}/{len(df_rh)}\")\n",
    "    \n",
    "    if len(successful) > 0:\n",
    "        print(\"\\n📈 Time comparisons (average):\")\n",
    "        print(f\"Optimistic: {successful['Duree_hhmmss_optimistic'].mode().iloc[0] if not successful['Duree_hhmmss_optimistic'].empty else 'N/A'}\")\n",
    "        print(f\"Rush hour: {successful['Duree_hhmmss_rush_hour'].mode().iloc[0] if not successful['Duree_hhmmss_rush_hour'].empty else 'N/A'}\")\n",
    "        \n",
    "        # Show specific employee example\n",
    "        employee_data = df_rh[\n",
    "            (df_rh['Nom'] == 'Colin') & \n",
    "            (df_rh['Prénom'] == 'Audrey')\n",
    "        ]\n",
    "        \n",
    "        if not employee_data.empty:\n",
    "            print(f\"\\n👤 Example - Audrey Colin:\")\n",
    "            print(f\"Optimistic: {employee_data['Duree_hhmmss_optimistic'].iloc[0]}\")\n",
    "            print(f\"Rush hour: {employee_data['Duree_hhmmss_rush_hour'].iloc[0]}\")\n",
    "\n",
    "# === TEST FUNCTION ===\n",
    "def test_comparison():\n",
    "    \"\"\"Test the difference between optimistic and rush-hour times\"\"\"\n",
    "    print(\"🧪 Testing time comparisons...\")\n",
    "    \n",
    "    global client\n",
    "    client = googlemaps.Client(key=API_KEY)\n",
    "    \n",
    "    test_address = \"128 Rue du Port, 34000 Frontignan\"\n",
    "    \n",
    "    # Test different modes\n",
    "    for mode in ['transit', 'driving']:\n",
    "        print(f\"\\n--- Testing {mode} mode ---\")\n",
    "        \n",
    "        route_times = get_multiple_route_times(\n",
    "            client=client,\n",
    "            origin_address=test_address,\n",
    "            destination_address=company_address,\n",
    "            mode=mode\n",
    "        )\n",
    "        \n",
    "        if 'error' not in route_times:\n",
    "            optimistic = route_times.get('optimistic', {})\n",
    "            rush_hour = route_times.get('rush_hour', {})\n",
    "            \n",
    "            print(f\"Optimistic: {optimistic.get('duration', 'N/A')}\")\n",
    "            print(f\"Rush hour: {rush_hour.get('duration', 'N/A')}\")\n",
    "            \n",
    "            if optimistic and rush_hour:\n",
    "                opt_sec = optimistic.get('duration_seconds', 0)\n",
    "                rush_sec = rush_hour.get('duration_seconds', 0)\n",
    "                if opt_sec and rush_sec:\n",
    "                    difference = rush_sec - opt_sec\n",
    "                    print(f\"Time difference: {difference//60} minutes\")\n",
    "\n",
    "# Run the script\n",
    "if __name__ == \"__main__\":\n",
    "    # Test first to see the comparison\n",
    "    test_comparison()\n",
    "    \n",
    "    # Then run the main processing\n",
    "    # main()"
   ]
  },
  {
   "cell_type": "code",
   "execution_count": null,
   "id": "1e472072",
   "metadata": {},
   "outputs": [],
   "source": []
  },
  {
   "cell_type": "code",
   "execution_count": 12,
   "id": "363a80b3",
   "metadata": {},
   "outputs": [
    {
     "name": "stdout",
     "output_type": "stream",
     "text": [
      "👥 Processing 161 employees...\n",
      "🕐 Calculating: Typical conditions + Rush hour\n",
      "------------------------------------------------------------\n"
     ]
    },
    {
     "name": "stderr",
     "output_type": "stream",
     "text": [
      "Calculating commutes:   0%|          | 0/161 [00:00<?, ?it/s]"
     ]
    },
    {
     "name": "stdout",
     "output_type": "stream",
     "text": [
      "📍 Calculating routes for Audrey Colin (transit)...\n",
      "✅ Audrey Colin:\n",
      "   Typical: 43 mins\n",
      "   Rush hour: 47 mins\n"
     ]
    },
    {
     "name": "stderr",
     "output_type": "stream",
     "text": [
      "Calculating commutes:   1%|          | 1/161 [00:02<07:54,  2.97s/it]"
     ]
    },
    {
     "name": "stdout",
     "output_type": "stream",
     "text": [
      "📍 Calculating routes for Monique Ledoux (driving)...\n",
      "✅ Monique Ledoux:\n",
      "   Typical: 28 mins\n",
      "   Rush hour: 37 mins\n"
     ]
    },
    {
     "name": "stderr",
     "output_type": "stream",
     "text": [
      "Calculating commutes:   1%|          | 2/161 [00:06<08:38,  3.26s/it]"
     ]
    },
    {
     "name": "stdout",
     "output_type": "stream",
     "text": [
      "📍 Calculating routes for Michelle Dumont (driving)...\n",
      "✅ Michelle Dumont:\n",
      "   Typical: 33 mins\n",
      "   Rush hour: 40 mins\n"
     ]
    },
    {
     "name": "stderr",
     "output_type": "stream",
     "text": [
      "Calculating commutes:   2%|▏         | 3/161 [00:09<07:51,  2.99s/it]"
     ]
    },
    {
     "name": "stdout",
     "output_type": "stream",
     "text": [
      "📍 Calculating routes for Judith Toussaint (walking)...\n",
      "✅ Judith Toussaint:\n",
      "   Typical: 22 mins\n",
      "   Rush hour: 22 mins\n"
     ]
    },
    {
     "name": "stderr",
     "output_type": "stream",
     "text": [
      "Calculating commutes:   2%|▏         | 4/161 [00:12<07:58,  3.05s/it]"
     ]
    },
    {
     "name": "stdout",
     "output_type": "stream",
     "text": [
      "📍 Calculating routes for Michelle Bailly (walking)...\n",
      "✅ Michelle Bailly:\n",
      "   Typical: 4 mins\n",
      "   Rush hour: 4 mins\n"
     ]
    },
    {
     "name": "stderr",
     "output_type": "stream",
     "text": [
      "Calculating commutes:   3%|▎         | 5/161 [00:15<07:41,  2.96s/it]"
     ]
    },
    {
     "name": "stdout",
     "output_type": "stream",
     "text": [
      "📍 Calculating routes for Margaret Bazin (bicycling)...\n",
      "✅ Margaret Bazin:\n",
      "   Typical: 22 mins\n",
      "   Rush hour: 22 mins\n"
     ]
    },
    {
     "name": "stderr",
     "output_type": "stream",
     "text": [
      "Calculating commutes:   4%|▎         | 6/161 [00:17<07:34,  2.93s/it]"
     ]
    },
    {
     "name": "stdout",
     "output_type": "stream",
     "text": [
      "📍 Calculating routes for Julien Jacques (driving)...\n",
      "✅ Julien Jacques:\n",
      "   Typical: 31 mins\n",
      "   Rush hour: 37 mins\n"
     ]
    },
    {
     "name": "stderr",
     "output_type": "stream",
     "text": [
      "Calculating commutes:   4%|▍         | 7/161 [00:20<07:22,  2.88s/it]"
     ]
    },
    {
     "name": "stdout",
     "output_type": "stream",
     "text": [
      "📍 Calculating routes for Brigitte Pons (transit)...\n",
      "✅ Brigitte Pons:\n",
      "   Typical: 1 hour 19 mins\n",
      "   Rush hour: 1 hour 29 mins\n"
     ]
    },
    {
     "name": "stderr",
     "output_type": "stream",
     "text": [
      "Calculating commutes:   5%|▍         | 8/161 [00:23<06:56,  2.72s/it]"
     ]
    },
    {
     "name": "stdout",
     "output_type": "stream",
     "text": [
      "📍 Calculating routes for Jérome Rousset (driving)...\n",
      "✅ Jérome Rousset:\n",
      "   Typical: 29 mins\n",
      "   Rush hour: 37 mins\n"
     ]
    },
    {
     "name": "stderr",
     "output_type": "stream",
     "text": [
      "Calculating commutes:   6%|▌         | 9/161 [00:26<07:28,  2.95s/it]"
     ]
    },
    {
     "name": "stdout",
     "output_type": "stream",
     "text": [
      "📍 Calculating routes for Zakaria Chauvin (bicycling)...\n",
      "✅ Zakaria Chauvin:\n",
      "   Typical: 29 mins\n",
      "   Rush hour: 29 mins\n"
     ]
    },
    {
     "name": "stderr",
     "output_type": "stream",
     "text": [
      "Calculating commutes:   6%|▌         | 10/161 [00:28<06:59,  2.78s/it]"
     ]
    },
    {
     "name": "stdout",
     "output_type": "stream",
     "text": [
      "📍 Calculating routes for Aurélie Chartier (driving)...\n",
      "✅ Aurélie Chartier:\n",
      "   Typical: 10 mins\n",
      "   Rush hour: 12 mins\n"
     ]
    },
    {
     "name": "stderr",
     "output_type": "stream",
     "text": [
      "Calculating commutes:   7%|▋         | 11/161 [00:31<06:59,  2.80s/it]"
     ]
    },
    {
     "name": "stdout",
     "output_type": "stream",
     "text": [
      "📍 Calculating routes for Augustin Maillard (transit)...\n",
      "✅ Augustin Maillard:\n",
      "   Typical: 51 mins\n",
      "   Rush hour: 1 hour 0 mins\n"
     ]
    },
    {
     "name": "stderr",
     "output_type": "stream",
     "text": [
      "Calculating commutes:   7%|▋         | 12/161 [00:34<07:16,  2.93s/it]"
     ]
    },
    {
     "name": "stdout",
     "output_type": "stream",
     "text": [
      "📍 Calculating routes for Francoise Tessier (bicycling)...\n",
      "✅ Francoise Tessier:\n",
      "   Typical: 5 mins\n",
      "   Rush hour: 5 mins\n"
     ]
    },
    {
     "name": "stderr",
     "output_type": "stream",
     "text": [
      "Calculating commutes:   8%|▊         | 13/161 [00:37<07:14,  2.94s/it]"
     ]
    },
    {
     "name": "stdout",
     "output_type": "stream",
     "text": [
      "📍 Calculating routes for Yves Neveu (driving)...\n",
      "✅ Yves Neveu:\n",
      "   Typical: 13 mins\n",
      "   Rush hour: 17 mins\n"
     ]
    },
    {
     "name": "stderr",
     "output_type": "stream",
     "text": [
      "Calculating commutes:   9%|▊         | 14/161 [00:41<07:29,  3.06s/it]"
     ]
    },
    {
     "name": "stdout",
     "output_type": "stream",
     "text": [
      "📍 Calculating routes for Benoit Fischer (driving)...\n",
      "✅ Benoit Fischer:\n",
      "   Typical: 16 mins\n",
      "   Rush hour: 23 mins\n"
     ]
    },
    {
     "name": "stderr",
     "output_type": "stream",
     "text": [
      "Calculating commutes:   9%|▉         | 15/161 [00:43<07:01,  2.89s/it]"
     ]
    },
    {
     "name": "stdout",
     "output_type": "stream",
     "text": [
      "📍 Calculating routes for Antoine Rodriguez (bicycling)...\n",
      "✅ Antoine Rodriguez:\n",
      "   Typical: 29 mins\n",
      "   Rush hour: 29 mins\n"
     ]
    },
    {
     "name": "stderr",
     "output_type": "stream",
     "text": [
      "Calculating commutes:  10%|▉         | 16/161 [00:46<06:37,  2.74s/it]"
     ]
    },
    {
     "name": "stdout",
     "output_type": "stream",
     "text": [
      "📍 Calculating routes for Eugénie Foucher (driving)...\n",
      "✅ Eugénie Foucher:\n",
      "   Typical: 46 mins\n",
      "   Rush hour: 58 mins\n"
     ]
    },
    {
     "name": "stderr",
     "output_type": "stream",
     "text": [
      "Calculating commutes:  11%|█         | 17/161 [00:49<06:49,  2.85s/it]"
     ]
    },
    {
     "name": "stdout",
     "output_type": "stream",
     "text": [
      "📍 Calculating routes for Léon Olivier (transit)...\n",
      "✅ Léon Olivier:\n",
      "   Typical: 41 mins\n",
      "   Rush hour: 42 mins\n"
     ]
    },
    {
     "name": "stderr",
     "output_type": "stream",
     "text": [
      "Calculating commutes:  11%|█         | 18/161 [00:51<06:34,  2.76s/it]"
     ]
    },
    {
     "name": "stdout",
     "output_type": "stream",
     "text": [
      "📍 Calculating routes for Francoise Laole (driving)...\n",
      "✅ Francoise Laole:\n",
      "   Typical: 27 mins\n",
      "   Rush hour: 40 mins\n"
     ]
    },
    {
     "name": "stderr",
     "output_type": "stream",
     "text": [
      "Calculating commutes:  12%|█▏        | 19/161 [00:55<06:53,  2.91s/it]"
     ]
    },
    {
     "name": "stdout",
     "output_type": "stream",
     "text": [
      "📍 Calculating routes for Claire Evrard (driving)...\n",
      "✅ Claire Evrard:\n",
      "   Typical: 35 mins\n",
      "   Rush hour: 44 mins\n"
     ]
    },
    {
     "name": "stderr",
     "output_type": "stream",
     "text": [
      "Calculating commutes:  12%|█▏        | 20/161 [00:58<07:07,  3.03s/it]"
     ]
    },
    {
     "name": "stdout",
     "output_type": "stream",
     "text": [
      "📍 Calculating routes for Victor Humbert (bicycling)...\n",
      "✅ Victor Humbert:\n",
      "   Typical: 27 mins\n",
      "   Rush hour: 27 mins\n"
     ]
    },
    {
     "name": "stderr",
     "output_type": "stream",
     "text": [
      "Calculating commutes:  13%|█▎        | 21/161 [01:00<06:43,  2.88s/it]"
     ]
    },
    {
     "name": "stdout",
     "output_type": "stream",
     "text": [
      "📍 Calculating routes for Alice Devaux (driving)...\n",
      "✅ Alice Devaux:\n",
      "   Typical: 18 mins\n",
      "   Rush hour: 20 mins\n"
     ]
    },
    {
     "name": "stderr",
     "output_type": "stream",
     "text": [
      "Calculating commutes:  14%|█▎        | 22/161 [01:04<06:49,  2.95s/it]"
     ]
    },
    {
     "name": "stdout",
     "output_type": "stream",
     "text": [
      "📍 Calculating routes for Michelle Gauthier (bicycling)...\n",
      "✅ Michelle Gauthier:\n",
      "   Typical: 25 mins\n",
      "   Rush hour: 25 mins\n"
     ]
    },
    {
     "name": "stderr",
     "output_type": "stream",
     "text": [
      "Calculating commutes:  14%|█▍        | 23/161 [01:06<06:35,  2.86s/it]"
     ]
    },
    {
     "name": "stdout",
     "output_type": "stream",
     "text": [
      "📍 Calculating routes for Mathilde Dias (driving)...\n",
      "✅ Mathilde Dias:\n",
      "   Typical: 16 mins\n",
      "   Rush hour: 24 mins\n"
     ]
    },
    {
     "name": "stderr",
     "output_type": "stream",
     "text": [
      "Calculating commutes:  15%|█▍        | 24/161 [01:09<06:38,  2.91s/it]"
     ]
    },
    {
     "name": "stdout",
     "output_type": "stream",
     "text": [
      "📍 Calculating routes for Robert Lopez (bicycling)...\n",
      "✅ Robert Lopez:\n",
      "   Typical: 18 mins\n",
      "   Rush hour: 18 mins\n"
     ]
    },
    {
     "name": "stderr",
     "output_type": "stream",
     "text": [
      "Calculating commutes:  16%|█▌        | 25/161 [01:11<06:09,  2.72s/it]"
     ]
    },
    {
     "name": "stdout",
     "output_type": "stream",
     "text": [
      "📍 Calculating routes for Claudine Joubert (bicycling)...\n",
      "✅ Claudine Joubert:\n",
      "   Typical: 23 mins\n",
      "   Rush hour: 23 mins\n"
     ]
    },
    {
     "name": "stderr",
     "output_type": "stream",
     "text": [
      "Calculating commutes:  16%|█▌        | 26/161 [01:14<06:18,  2.81s/it]"
     ]
    },
    {
     "name": "stdout",
     "output_type": "stream",
     "text": [
      "📍 Calculating routes for Benjamin Royer (walking)...\n",
      "✅ Benjamin Royer:\n",
      "   Typical: 45 mins\n",
      "   Rush hour: 45 mins\n"
     ]
    },
    {
     "name": "stderr",
     "output_type": "stream",
     "text": [
      "Calculating commutes:  17%|█▋        | 27/161 [01:17<05:58,  2.68s/it]"
     ]
    },
    {
     "name": "stdout",
     "output_type": "stream",
     "text": [
      "📍 Calculating routes for Léa Blin (driving)...\n",
      "✅ Léa Blin:\n",
      "   Typical: 5 mins\n",
      "   Rush hour: 6 mins\n"
     ]
    },
    {
     "name": "stderr",
     "output_type": "stream",
     "text": [
      "Calculating commutes:  17%|█▋        | 28/161 [01:20<06:08,  2.77s/it]"
     ]
    },
    {
     "name": "stdout",
     "output_type": "stream",
     "text": [
      "📍 Calculating routes for Diane Rey (driving)...\n",
      "✅ Diane Rey:\n",
      "   Typical: 45 mins\n",
      "   Rush hour: 58 mins\n"
     ]
    },
    {
     "name": "stderr",
     "output_type": "stream",
     "text": [
      "Calculating commutes:  18%|█▊        | 29/161 [01:24<06:43,  3.06s/it]"
     ]
    },
    {
     "name": "stdout",
     "output_type": "stream",
     "text": [
      "📍 Calculating routes for Gabriel Poirier (driving)...\n",
      "✅ Gabriel Poirier:\n",
      "   Typical: 43 mins\n",
      "   Rush hour: 50 mins\n"
     ]
    },
    {
     "name": "stderr",
     "output_type": "stream",
     "text": [
      "Calculating commutes:  19%|█▊        | 30/161 [01:27<06:56,  3.18s/it]"
     ]
    },
    {
     "name": "stdout",
     "output_type": "stream",
     "text": [
      "📍 Calculating routes for Brigitte Aubert (walking)...\n",
      "✅ Brigitte Aubert:\n",
      "   Typical: 51 mins\n",
      "   Rush hour: 51 mins\n"
     ]
    },
    {
     "name": "stderr",
     "output_type": "stream",
     "text": [
      "Calculating commutes:  19%|█▉        | 31/161 [01:30<06:29,  2.99s/it]"
     ]
    },
    {
     "name": "stdout",
     "output_type": "stream",
     "text": [
      "📍 Calculating routes for Maurice Lemaire (driving)...\n",
      "✅ Maurice Lemaire:\n",
      "   Typical: 15 mins\n",
      "   Rush hour: 19 mins\n"
     ]
    },
    {
     "name": "stderr",
     "output_type": "stream",
     "text": [
      "Calculating commutes:  20%|█▉        | 32/161 [01:33<06:34,  3.06s/it]"
     ]
    },
    {
     "name": "stdout",
     "output_type": "stream",
     "text": [
      "📍 Calculating routes for Charles Roussel (driving)...\n",
      "✅ Charles Roussel:\n",
      "   Typical: 7 mins\n",
      "   Rush hour: 8 mins\n"
     ]
    },
    {
     "name": "stderr",
     "output_type": "stream",
     "text": [
      "Calculating commutes:  20%|██        | 33/161 [01:36<06:36,  3.10s/it]"
     ]
    },
    {
     "name": "stdout",
     "output_type": "stream",
     "text": [
      "📍 Calculating routes for Claire Rossi (driving)...\n",
      "✅ Claire Rossi:\n",
      "   Typical: 24 mins\n",
      "   Rush hour: 29 mins\n"
     ]
    },
    {
     "name": "stderr",
     "output_type": "stream",
     "text": [
      "Calculating commutes:  21%|██        | 34/161 [01:39<06:38,  3.14s/it]"
     ]
    },
    {
     "name": "stdout",
     "output_type": "stream",
     "text": [
      "📍 Calculating routes for Alain Lagarde (bicycling)...\n",
      "✅ Alain Lagarde:\n",
      "   Typical: 29 mins\n",
      "   Rush hour: 29 mins\n"
     ]
    },
    {
     "name": "stderr",
     "output_type": "stream",
     "text": [
      "Calculating commutes:  22%|██▏       | 35/161 [01:42<06:36,  3.15s/it]"
     ]
    },
    {
     "name": "stdout",
     "output_type": "stream",
     "text": [
      "📍 Calculating routes for Juliette Mendes (driving)...\n",
      "✅ Juliette Mendes:\n",
      "   Typical: 29 mins\n",
      "   Rush hour: 41 mins\n"
     ]
    },
    {
     "name": "stderr",
     "output_type": "stream",
     "text": [
      "Calculating commutes:  22%|██▏       | 36/161 [01:46<06:45,  3.24s/it]"
     ]
    },
    {
     "name": "stdout",
     "output_type": "stream",
     "text": [
      "📍 Calculating routes for Mégane Louis (bicycling)...\n",
      "✅ Mégane Louis:\n",
      "   Typical: 30 mins\n",
      "   Rush hour: 30 mins\n"
     ]
    },
    {
     "name": "stderr",
     "output_type": "stream",
     "text": [
      "Calculating commutes:  23%|██▎       | 37/161 [01:48<06:06,  2.95s/it]"
     ]
    },
    {
     "name": "stdout",
     "output_type": "stream",
     "text": [
      "📍 Calculating routes for Francoise Toussaint (bicycling)...\n",
      "✅ Francoise Toussaint:\n",
      "   Typical: 45 mins\n",
      "   Rush hour: 45 mins\n"
     ]
    },
    {
     "name": "stderr",
     "output_type": "stream",
     "text": [
      "Calculating commutes:  24%|██▎       | 38/161 [01:51<06:07,  2.99s/it]"
     ]
    },
    {
     "name": "stdout",
     "output_type": "stream",
     "text": [
      "📍 Calculating routes for Andréa Munoz (driving)...\n",
      "✅ Andréa Munoz:\n",
      "   Typical: 16 mins\n",
      "   Rush hour: 21 mins\n"
     ]
    },
    {
     "name": "stderr",
     "output_type": "stream",
     "text": [
      "Calculating commutes:  24%|██▍       | 39/161 [01:54<06:04,  2.99s/it]"
     ]
    },
    {
     "name": "stdout",
     "output_type": "stream",
     "text": [
      "📍 Calculating routes for Monique Bonneau (walking)...\n",
      "✅ Monique Bonneau:\n",
      "   Typical: 47 mins\n",
      "   Rush hour: 47 mins\n"
     ]
    },
    {
     "name": "stderr",
     "output_type": "stream",
     "text": [
      "Calculating commutes:  25%|██▍       | 40/161 [01:57<05:45,  2.86s/it]"
     ]
    },
    {
     "name": "stdout",
     "output_type": "stream",
     "text": [
      "📍 Calculating routes for Constance Carlier (driving)...\n",
      "✅ Constance Carlier:\n",
      "   Typical: 21 mins\n",
      "   Rush hour: 28 mins\n"
     ]
    },
    {
     "name": "stderr",
     "output_type": "stream",
     "text": [
      "Calculating commutes:  25%|██▌       | 41/161 [01:59<05:35,  2.79s/it]"
     ]
    },
    {
     "name": "stdout",
     "output_type": "stream",
     "text": [
      "📍 Calculating routes for Marcel Jacquot (driving)...\n",
      "✅ Marcel Jacquot:\n",
      "   Typical: 48 mins\n",
      "   Rush hour: 56 mins\n"
     ]
    },
    {
     "name": "stderr",
     "output_type": "stream",
     "text": [
      "Calculating commutes:  26%|██▌       | 42/161 [02:03<06:05,  3.07s/it]"
     ]
    },
    {
     "name": "stdout",
     "output_type": "stream",
     "text": [
      "📍 Calculating routes for Marine Gautier (transit)...\n",
      "✅ Marine Gautier:\n",
      "   Typical: 1 hour 15 mins\n",
      "   Rush hour: 1 hour 29 mins\n"
     ]
    },
    {
     "name": "stderr",
     "output_type": "stream",
     "text": [
      "Calculating commutes:  27%|██▋       | 43/161 [02:06<05:38,  2.87s/it]"
     ]
    },
    {
     "name": "stdout",
     "output_type": "stream",
     "text": [
      "📍 Calculating routes for Andre Vallet (bicycling)...\n",
      "✅ Andre Vallet:\n",
      "   Typical: 35 mins\n",
      "   Rush hour: 35 mins\n"
     ]
    },
    {
     "name": "stderr",
     "output_type": "stream",
     "text": [
      "Calculating commutes:  27%|██▋       | 44/161 [02:08<05:14,  2.69s/it]"
     ]
    },
    {
     "name": "stdout",
     "output_type": "stream",
     "text": [
      "📍 Calculating routes for Louis Martel (transit)...\n",
      "✅ Louis Martel:\n",
      "   Typical: 43 mins\n",
      "   Rush hour: 45 mins\n"
     ]
    },
    {
     "name": "stderr",
     "output_type": "stream",
     "text": [
      "Calculating commutes:  28%|██▊       | 45/161 [02:11<05:12,  2.70s/it]"
     ]
    },
    {
     "name": "stdout",
     "output_type": "stream",
     "text": [
      "📍 Calculating routes for William Hebert (bicycling)...\n",
      "✅ William Hebert:\n",
      "   Typical: 10 mins\n",
      "   Rush hour: 10 mins\n"
     ]
    },
    {
     "name": "stderr",
     "output_type": "stream",
     "text": [
      "Calculating commutes:  29%|██▊       | 46/161 [02:14<05:24,  2.82s/it]"
     ]
    },
    {
     "name": "stdout",
     "output_type": "stream",
     "text": [
      "📍 Calculating routes for Jules Schmitt (walking)...\n",
      "✅ Jules Schmitt:\n",
      "   Typical: 22 mins\n",
      "   Rush hour: 22 mins\n"
     ]
    },
    {
     "name": "stderr",
     "output_type": "stream",
     "text": [
      "Calculating commutes:  29%|██▉       | 47/161 [02:17<05:26,  2.87s/it]"
     ]
    },
    {
     "name": "stdout",
     "output_type": "stream",
     "text": [
      "📍 Calculating routes for Denise Lambert (bicycling)...\n",
      "✅ Denise Lambert:\n",
      "   Typical: 19 mins\n",
      "   Rush hour: 19 mins\n"
     ]
    },
    {
     "name": "stderr",
     "output_type": "stream",
     "text": [
      "Calculating commutes:  30%|██▉       | 48/161 [02:19<05:13,  2.78s/it]"
     ]
    },
    {
     "name": "stdout",
     "output_type": "stream",
     "text": [
      "📍 Calculating routes for Olivie Lacroix (driving)...\n",
      "✅ Olivie Lacroix:\n",
      "   Typical: 49 mins\n",
      "   Rush hour: 55 mins\n"
     ]
    },
    {
     "name": "stderr",
     "output_type": "stream",
     "text": [
      "Calculating commutes:  30%|███       | 49/161 [02:22<05:13,  2.80s/it]"
     ]
    },
    {
     "name": "stdout",
     "output_type": "stream",
     "text": [
      "📍 Calculating routes for Paul Hamon (bicycling)...\n",
      "✅ Paul Hamon:\n",
      "   Typical: 22 mins\n",
      "   Rush hour: 22 mins\n"
     ]
    },
    {
     "name": "stderr",
     "output_type": "stream",
     "text": [
      "Calculating commutes:  31%|███       | 50/161 [02:25<05:05,  2.75s/it]"
     ]
    },
    {
     "name": "stdout",
     "output_type": "stream",
     "text": [
      "📍 Calculating routes for Christine Klein (driving)...\n",
      "✅ Christine Klein:\n",
      "   Typical: 44 mins\n",
      "   Rush hour: 51 mins\n"
     ]
    },
    {
     "name": "stderr",
     "output_type": "stream",
     "text": [
      "Calculating commutes:  32%|███▏      | 51/161 [02:28<05:29,  3.00s/it]"
     ]
    },
    {
     "name": "stdout",
     "output_type": "stream",
     "text": [
      "📍 Calculating routes for Julie Boyer (bicycling)...\n",
      "✅ Julie Boyer:\n",
      "   Typical: 19 mins\n",
      "   Rush hour: 19 mins\n"
     ]
    },
    {
     "name": "stderr",
     "output_type": "stream",
     "text": [
      "Calculating commutes:  32%|███▏      | 52/161 [02:31<05:13,  2.87s/it]"
     ]
    },
    {
     "name": "stdout",
     "output_type": "stream",
     "text": [
      "📍 Calculating routes for Yves Pons (driving)...\n",
      "✅ Yves Pons:\n",
      "   Typical: 23 mins\n",
      "   Rush hour: 31 mins\n"
     ]
    },
    {
     "name": "stderr",
     "output_type": "stream",
     "text": [
      "Calculating commutes:  33%|███▎      | 53/161 [02:34<05:14,  2.91s/it]"
     ]
    },
    {
     "name": "stdout",
     "output_type": "stream",
     "text": [
      "📍 Calculating routes for Jeremy Arnaud (driving)...\n",
      "✅ Jeremy Arnaud:\n",
      "   Typical: 38 mins\n",
      "   Rush hour: 50 mins\n"
     ]
    },
    {
     "name": "stderr",
     "output_type": "stream",
     "text": [
      "Calculating commutes:  34%|███▎      | 54/161 [02:37<05:18,  2.98s/it]"
     ]
    },
    {
     "name": "stdout",
     "output_type": "stream",
     "text": [
      "📍 Calculating routes for Elodie Provost (bicycling)...\n",
      "✅ Elodie Provost:\n",
      "   Typical: 28 mins\n",
      "   Rush hour: 28 mins\n"
     ]
    },
    {
     "name": "stderr",
     "output_type": "stream",
     "text": [
      "Calculating commutes:  34%|███▍      | 55/161 [02:39<05:00,  2.84s/it]"
     ]
    },
    {
     "name": "stdout",
     "output_type": "stream",
     "text": [
      "📍 Calculating routes for Julien Ferrand (bicycling)...\n",
      "✅ Julien Ferrand:\n",
      "   Typical: 25 mins\n",
      "   Rush hour: 25 mins\n"
     ]
    },
    {
     "name": "stderr",
     "output_type": "stream",
     "text": [
      "Calculating commutes:  35%|███▍      | 56/161 [02:42<04:59,  2.85s/it]"
     ]
    },
    {
     "name": "stdout",
     "output_type": "stream",
     "text": [
      "📍 Calculating routes for Henriette Thibault (driving)...\n",
      "✅ Henriette Thibault:\n",
      "   Typical: 26 mins\n",
      "   Rush hour: 32 mins\n"
     ]
    },
    {
     "name": "stderr",
     "output_type": "stream",
     "text": [
      "Calculating commutes:  35%|███▌      | 57/161 [02:45<05:06,  2.94s/it]"
     ]
    },
    {
     "name": "stdout",
     "output_type": "stream",
     "text": [
      "📍 Calculating routes for Naomie Michaud (driving)...\n",
      "✅ Naomie Michaud:\n",
      "   Typical: 29 mins\n",
      "   Rush hour: 35 mins\n"
     ]
    },
    {
     "name": "stderr",
     "output_type": "stream",
     "text": [
      "Calculating commutes:  36%|███▌      | 58/161 [02:48<04:58,  2.90s/it]"
     ]
    },
    {
     "name": "stdout",
     "output_type": "stream",
     "text": [
      "📍 Calculating routes for Adèle Albert (bicycling)...\n",
      "✅ Adèle Albert:\n",
      "   Typical: 39 mins\n",
      "   Rush hour: 39 mins\n"
     ]
    },
    {
     "name": "stderr",
     "output_type": "stream",
     "text": [
      "Calculating commutes:  37%|███▋      | 59/161 [02:51<05:00,  2.95s/it]"
     ]
    },
    {
     "name": "stdout",
     "output_type": "stream",
     "text": [
      "📍 Calculating routes for Léon Rodriguez (driving)...\n",
      "✅ Léon Rodriguez:\n",
      "   Typical: 17 mins\n",
      "   Rush hour: 19 mins\n"
     ]
    },
    {
     "name": "stderr",
     "output_type": "stream",
     "text": [
      "Calculating commutes:  37%|███▋      | 60/161 [02:54<04:53,  2.91s/it]"
     ]
    },
    {
     "name": "stdout",
     "output_type": "stream",
     "text": [
      "📍 Calculating routes for Joseph Gosselin (transit)...\n",
      "✅ Joseph Gosselin:\n",
      "   Typical: 48 mins\n",
      "   Rush hour: 52 mins\n"
     ]
    },
    {
     "name": "stderr",
     "output_type": "stream",
     "text": [
      "Calculating commutes:  38%|███▊      | 61/161 [02:57<04:37,  2.78s/it]"
     ]
    },
    {
     "name": "stdout",
     "output_type": "stream",
     "text": [
      "📍 Calculating routes for Arthur Pendragon (driving)...\n",
      "✅ Arthur Pendragon:\n",
      "   Typical: 45 mins\n",
      "   Rush hour: 53 mins\n"
     ]
    },
    {
     "name": "stderr",
     "output_type": "stream",
     "text": [
      "Calculating commutes:  39%|███▊      | 62/161 [03:00<04:42,  2.85s/it]"
     ]
    },
    {
     "name": "stdout",
     "output_type": "stream",
     "text": [
      "📍 Calculating routes for Nath De Oliveira (walking)...\n",
      "✅ Nath De Oliveira:\n",
      "   Typical: 2 mins\n",
      "   Rush hour: 2 mins\n"
     ]
    },
    {
     "name": "stderr",
     "output_type": "stream",
     "text": [
      "Calculating commutes:  39%|███▉      | 63/161 [03:02<04:22,  2.68s/it]"
     ]
    },
    {
     "name": "stdout",
     "output_type": "stream",
     "text": [
      "📍 Calculating routes for Roger Henry (bicycling)...\n",
      "✅ Roger Henry:\n",
      "   Typical: 57 mins\n",
      "   Rush hour: 57 mins\n"
     ]
    },
    {
     "name": "stderr",
     "output_type": "stream",
     "text": [
      "Calculating commutes:  40%|███▉      | 64/161 [03:05<04:28,  2.77s/it]"
     ]
    },
    {
     "name": "stdout",
     "output_type": "stream",
     "text": [
      "📍 Calculating routes for Hugues Fischer (bicycling)...\n",
      "✅ Hugues Fischer:\n",
      "   Typical: 28 mins\n",
      "   Rush hour: 28 mins\n"
     ]
    },
    {
     "name": "stderr",
     "output_type": "stream",
     "text": [
      "Calculating commutes:  40%|████      | 65/161 [03:07<04:10,  2.61s/it]"
     ]
    },
    {
     "name": "stdout",
     "output_type": "stream",
     "text": [
      "📍 Calculating routes for Alphonse Muller (driving)...\n",
      "✅ Alphonse Muller:\n",
      "   Typical: 38 mins\n",
      "   Rush hour: 51 mins\n"
     ]
    },
    {
     "name": "stderr",
     "output_type": "stream",
     "text": [
      "Calculating commutes:  41%|████      | 66/161 [03:11<04:32,  2.87s/it]"
     ]
    },
    {
     "name": "stdout",
     "output_type": "stream",
     "text": [
      "📍 Calculating routes for Victor Lemaire (driving)...\n",
      "✅ Victor Lemaire:\n",
      "   Typical: 43 mins\n",
      "   Rush hour: 56 mins\n"
     ]
    },
    {
     "name": "stderr",
     "output_type": "stream",
     "text": [
      "Calculating commutes:  42%|████▏     | 67/161 [03:14<04:38,  2.96s/it]"
     ]
    },
    {
     "name": "stdout",
     "output_type": "stream",
     "text": [
      "📍 Calculating routes for Julien Samson (driving)...\n",
      "✅ Julien Samson:\n",
      "   Typical: 55 mins\n",
      "   Rush hour: 1 hour 5 mins\n"
     ]
    },
    {
     "name": "stderr",
     "output_type": "stream",
     "text": [
      "Calculating commutes:  42%|████▏     | 68/161 [03:18<04:58,  3.21s/it]"
     ]
    },
    {
     "name": "stdout",
     "output_type": "stream",
     "text": [
      "📍 Calculating routes for Antoine Cousin (driving)...\n",
      "✅ Antoine Cousin:\n",
      "   Typical: 15 mins\n",
      "   Rush hour: 23 mins\n"
     ]
    },
    {
     "name": "stderr",
     "output_type": "stream",
     "text": [
      "Calculating commutes:  43%|████▎     | 69/161 [03:21<04:57,  3.24s/it]"
     ]
    },
    {
     "name": "stdout",
     "output_type": "stream",
     "text": [
      "📍 Calculating routes for Alexandre Toussaint (transit)...\n",
      "✅ Alexandre Toussaint:\n",
      "   Typical: 30 mins\n",
      "   Rush hour: 30 mins\n"
     ]
    },
    {
     "name": "stderr",
     "output_type": "stream",
     "text": [
      "Calculating commutes:  43%|████▎     | 70/161 [03:23<04:27,  2.94s/it]"
     ]
    },
    {
     "name": "stdout",
     "output_type": "stream",
     "text": [
      "📍 Calculating routes for Astrid Mendes (driving)...\n",
      "✅ Astrid Mendes:\n",
      "   Typical: 13 mins\n",
      "   Rush hour: 17 mins\n"
     ]
    },
    {
     "name": "stderr",
     "output_type": "stream",
     "text": [
      "Calculating commutes:  44%|████▍     | 71/161 [03:26<04:31,  3.02s/it]"
     ]
    },
    {
     "name": "stdout",
     "output_type": "stream",
     "text": [
      "📍 Calculating routes for Christiane Paul (bicycling)...\n",
      "✅ Christiane Paul:\n",
      "   Typical: 34 mins\n",
      "   Rush hour: 34 mins\n"
     ]
    },
    {
     "name": "stderr",
     "output_type": "stream",
     "text": [
      "Calculating commutes:  45%|████▍     | 72/161 [03:29<04:13,  2.85s/it]"
     ]
    },
    {
     "name": "stdout",
     "output_type": "stream",
     "text": [
      "📍 Calculating routes for Charlene Munoz (driving)...\n",
      "✅ Charlene Munoz:\n",
      "   Typical: 31 mins\n",
      "   Rush hour: 37 mins\n"
     ]
    },
    {
     "name": "stderr",
     "output_type": "stream",
     "text": [
      "Calculating commutes:  45%|████▌     | 73/161 [03:32<04:17,  2.93s/it]"
     ]
    },
    {
     "name": "stdout",
     "output_type": "stream",
     "text": [
      "📍 Calculating routes for Guillaume Leleu (driving)...\n",
      "✅ Guillaume Leleu:\n",
      "   Typical: 33 mins\n",
      "   Rush hour: 41 mins\n"
     ]
    },
    {
     "name": "stderr",
     "output_type": "stream",
     "text": [
      "Calculating commutes:  46%|████▌     | 74/161 [03:35<04:25,  3.05s/it]"
     ]
    },
    {
     "name": "stdout",
     "output_type": "stream",
     "text": [
      "📍 Calculating routes for Alain Navarro (transit)...\n",
      "✅ Alain Navarro:\n",
      "   Typical: 32 mins\n",
      "   Rush hour: 32 mins\n"
     ]
    },
    {
     "name": "stderr",
     "output_type": "stream",
     "text": [
      "Calculating commutes:  47%|████▋     | 75/161 [03:38<04:11,  2.92s/it]"
     ]
    },
    {
     "name": "stdout",
     "output_type": "stream",
     "text": [
      "📍 Calculating routes for Thibaut Lefort (bicycling)...\n",
      "✅ Thibaut Lefort:\n",
      "   Typical: 19 mins\n",
      "   Rush hour: 19 mins\n"
     ]
    },
    {
     "name": "stderr",
     "output_type": "stream",
     "text": [
      "Calculating commutes:  47%|████▋     | 76/161 [03:41<04:01,  2.84s/it]"
     ]
    },
    {
     "name": "stdout",
     "output_type": "stream",
     "text": [
      "📍 Calculating routes for Mathilde Lesage (bicycling)...\n",
      "✅ Mathilde Lesage:\n",
      "   Typical: 19 mins\n",
      "   Rush hour: 19 mins\n"
     ]
    },
    {
     "name": "stderr",
     "output_type": "stream",
     "text": [
      "Calculating commutes:  48%|████▊     | 77/161 [03:44<04:06,  2.93s/it]"
     ]
    },
    {
     "name": "stdout",
     "output_type": "stream",
     "text": [
      "📍 Calculating routes for Christiane Fabre (bicycling)...\n",
      "✅ Christiane Fabre:\n",
      "   Typical: 40 mins\n",
      "   Rush hour: 40 mins\n"
     ]
    },
    {
     "name": "stderr",
     "output_type": "stream",
     "text": [
      "Calculating commutes:  48%|████▊     | 78/161 [03:47<04:05,  2.96s/it]"
     ]
    },
    {
     "name": "stdout",
     "output_type": "stream",
     "text": [
      "📍 Calculating routes for Francis Morin (transit)...\n",
      "✅ Francis Morin:\n",
      "   Typical: 1 hour 13 mins\n",
      "   Rush hour: 1 hour 4 mins\n"
     ]
    },
    {
     "name": "stderr",
     "output_type": "stream",
     "text": [
      "Calculating commutes:  49%|████▉     | 79/161 [03:49<03:52,  2.84s/it]"
     ]
    },
    {
     "name": "stdout",
     "output_type": "stream",
     "text": [
      "📍 Calculating routes for Bernard Georges (bicycling)...\n",
      "✅ Bernard Georges:\n",
      "   Typical: 26 mins\n",
      "   Rush hour: 26 mins\n"
     ]
    },
    {
     "name": "stderr",
     "output_type": "stream",
     "text": [
      "Calculating commutes:  50%|████▉     | 80/161 [03:52<03:38,  2.70s/it]"
     ]
    },
    {
     "name": "stdout",
     "output_type": "stream",
     "text": [
      "📍 Calculating routes for Philippine Boutin (bicycling)...\n",
      "✅ Philippine Boutin:\n",
      "   Typical: 1 hour 6 mins\n",
      "   Rush hour: 1 hour 6 mins\n"
     ]
    },
    {
     "name": "stderr",
     "output_type": "stream",
     "text": [
      "Calculating commutes:  50%|█████     | 81/161 [03:54<03:26,  2.58s/it]"
     ]
    },
    {
     "name": "stdout",
     "output_type": "stream",
     "text": [
      "📍 Calculating routes for Hugues Besson (walking)...\n",
      "✅ Hugues Besson:\n",
      "   Typical: 54 mins\n",
      "   Rush hour: 54 mins\n"
     ]
    },
    {
     "name": "stderr",
     "output_type": "stream",
     "text": [
      "Calculating commutes:  51%|█████     | 82/161 [03:57<03:27,  2.63s/it]"
     ]
    },
    {
     "name": "stdout",
     "output_type": "stream",
     "text": [
      "📍 Calculating routes for Audrey Devaux (bicycling)...\n",
      "✅ Audrey Devaux:\n",
      "   Typical: 37 mins\n",
      "   Rush hour: 37 mins\n"
     ]
    },
    {
     "name": "stderr",
     "output_type": "stream",
     "text": [
      "Calculating commutes:  52%|█████▏    | 83/161 [04:00<03:32,  2.73s/it]"
     ]
    },
    {
     "name": "stdout",
     "output_type": "stream",
     "text": [
      "📍 Calculating routes for Thomas Jourdan (driving)...\n",
      "✅ Thomas Jourdan:\n",
      "   Typical: 27 mins\n",
      "   Rush hour: 36 mins\n"
     ]
    },
    {
     "name": "stderr",
     "output_type": "stream",
     "text": [
      "Calculating commutes:  52%|█████▏    | 84/161 [04:03<03:44,  2.91s/it]"
     ]
    },
    {
     "name": "stdout",
     "output_type": "stream",
     "text": [
      "📍 Calculating routes for Benjamin Bourgeois (driving)...\n",
      "✅ Benjamin Bourgeois:\n",
      "   Typical: 20 mins\n",
      "   Rush hour: 28 mins\n"
     ]
    },
    {
     "name": "stderr",
     "output_type": "stream",
     "text": [
      "Calculating commutes:  53%|█████▎    | 85/161 [04:06<03:49,  3.02s/it]"
     ]
    },
    {
     "name": "stdout",
     "output_type": "stream",
     "text": [
      "📍 Calculating routes for Martin Marchand (bicycling)...\n",
      "✅ Martin Marchand:\n",
      "   Typical: 1 hour 6 mins\n",
      "   Rush hour: 1 hour 6 mins\n"
     ]
    },
    {
     "name": "stderr",
     "output_type": "stream",
     "text": [
      "Calculating commutes:  53%|█████▎    | 86/161 [04:09<03:30,  2.80s/it]"
     ]
    },
    {
     "name": "stdout",
     "output_type": "stream",
     "text": [
      "📍 Calculating routes for Capucine Payet (transit)...\n",
      "✅ Capucine Payet:\n",
      "   Typical: 27 mins\n",
      "   Rush hour: 28 mins\n"
     ]
    },
    {
     "name": "stderr",
     "output_type": "stream",
     "text": [
      "Calculating commutes:  54%|█████▍    | 87/161 [04:11<03:20,  2.71s/it]"
     ]
    },
    {
     "name": "stdout",
     "output_type": "stream",
     "text": [
      "📍 Calculating routes for Iris Colin (driving)...\n",
      "✅ Iris Colin:\n",
      "   Typical: 27 mins\n",
      "   Rush hour: 36 mins\n"
     ]
    },
    {
     "name": "stderr",
     "output_type": "stream",
     "text": [
      "Calculating commutes:  55%|█████▍    | 88/161 [04:14<03:26,  2.83s/it]"
     ]
    },
    {
     "name": "stdout",
     "output_type": "stream",
     "text": [
      "📍 Calculating routes for Catherine Ribeiro (driving)...\n",
      "✅ Catherine Ribeiro:\n",
      "   Typical: 46 mins\n",
      "   Rush hour: 58 mins\n"
     ]
    },
    {
     "name": "stderr",
     "output_type": "stream",
     "text": [
      "Calculating commutes:  55%|█████▌    | 89/161 [04:18<03:41,  3.07s/it]"
     ]
    },
    {
     "name": "stdout",
     "output_type": "stream",
     "text": [
      "📍 Calculating routes for Henri Boulanger (driving)...\n",
      "✅ Henri Boulanger:\n",
      "   Typical: 44 mins\n",
      "   Rush hour: 51 mins\n"
     ]
    },
    {
     "name": "stderr",
     "output_type": "stream",
     "text": [
      "Calculating commutes:  56%|█████▌    | 90/161 [04:21<03:52,  3.27s/it]"
     ]
    },
    {
     "name": "stdout",
     "output_type": "stream",
     "text": [
      "📍 Calculating routes for Claudine Pasquier (bicycling)...\n",
      "✅ Claudine Pasquier:\n",
      "   Typical: 17 mins\n",
      "   Rush hour: 17 mins\n"
     ]
    },
    {
     "name": "stderr",
     "output_type": "stream",
     "text": [
      "Calculating commutes:  57%|█████▋    | 91/161 [04:24<03:35,  3.08s/it]"
     ]
    },
    {
     "name": "stdout",
     "output_type": "stream",
     "text": [
      "📍 Calculating routes for André Moreno (bicycling)...\n",
      "✅ André Moreno:\n",
      "   Typical: 28 mins\n",
      "   Rush hour: 28 mins\n"
     ]
    },
    {
     "name": "stderr",
     "output_type": "stream",
     "text": [
      "Calculating commutes:  57%|█████▋    | 92/161 [04:26<03:15,  2.84s/it]"
     ]
    },
    {
     "name": "stdout",
     "output_type": "stream",
     "text": [
      "📍 Calculating routes for Danielle Delattre (driving)...\n",
      "✅ Danielle Delattre:\n",
      "   Typical: 19 mins\n",
      "   Rush hour: 20 mins\n"
     ]
    },
    {
     "name": "stderr",
     "output_type": "stream",
     "text": [
      "Calculating commutes:  58%|█████▊    | 93/161 [04:29<03:15,  2.88s/it]"
     ]
    },
    {
     "name": "stdout",
     "output_type": "stream",
     "text": [
      "📍 Calculating routes for Laure Poirier (driving)...\n",
      "✅ Laure Poirier:\n",
      "   Typical: 39 mins\n",
      "   Rush hour: 46 mins\n"
     ]
    },
    {
     "name": "stderr",
     "output_type": "stream",
     "text": [
      "Calculating commutes:  58%|█████▊    | 94/161 [04:33<03:22,  3.03s/it]"
     ]
    },
    {
     "name": "stdout",
     "output_type": "stream",
     "text": [
      "📍 Calculating routes for Jules Schneider (transit)...\n",
      "✅ Jules Schneider:\n",
      "   Typical: 1 hour 10 mins\n",
      "   Rush hour: 1 hour 12 mins\n"
     ]
    },
    {
     "name": "stderr",
     "output_type": "stream",
     "text": [
      "Calculating commutes:  59%|█████▉    | 95/161 [04:36<03:22,  3.07s/it]"
     ]
    },
    {
     "name": "stdout",
     "output_type": "stream",
     "text": [
      "📍 Calculating routes for Susanne Lacroix (walking)...\n",
      "✅ Susanne Lacroix:\n",
      "   Typical: 3 mins\n",
      "   Rush hour: 3 mins\n"
     ]
    },
    {
     "name": "stderr",
     "output_type": "stream",
     "text": [
      "Calculating commutes:  60%|█████▉    | 96/161 [04:39<03:14,  3.00s/it]"
     ]
    },
    {
     "name": "stdout",
     "output_type": "stream",
     "text": [
      "📍 Calculating routes for Caroline Olivier (driving)...\n",
      "✅ Caroline Olivier:\n",
      "   Typical: 44 mins\n",
      "   Rush hour: 52 mins\n"
     ]
    },
    {
     "name": "stderr",
     "output_type": "stream",
     "text": [
      "Calculating commutes:  60%|██████    | 97/161 [04:42<03:15,  3.05s/it]"
     ]
    },
    {
     "name": "stdout",
     "output_type": "stream",
     "text": [
      "📍 Calculating routes for Colette Delmas (driving)...\n",
      "✅ Colette Delmas:\n",
      "   Typical: 41 mins\n",
      "   Rush hour: 54 mins\n"
     ]
    },
    {
     "name": "stderr",
     "output_type": "stream",
     "text": [
      "Calculating commutes:  61%|██████    | 98/161 [04:46<03:25,  3.26s/it]"
     ]
    },
    {
     "name": "stdout",
     "output_type": "stream",
     "text": [
      "📍 Calculating routes for Margaud Legrand (bicycling)...\n",
      "✅ Margaud Legrand:\n",
      "   Typical: 14 mins\n",
      "   Rush hour: 14 mins\n"
     ]
    },
    {
     "name": "stderr",
     "output_type": "stream",
     "text": [
      "Calculating commutes:  61%|██████▏   | 99/161 [04:48<03:04,  2.98s/it]"
     ]
    },
    {
     "name": "stdout",
     "output_type": "stream",
     "text": [
      "📍 Calculating routes for Juliette Roux (driving)...\n",
      "✅ Juliette Roux:\n",
      "   Typical: 13 mins\n",
      "   Rush hour: 15 mins\n"
     ]
    },
    {
     "name": "stderr",
     "output_type": "stream",
     "text": [
      "Calculating commutes:  62%|██████▏   | 100/161 [04:51<03:05,  3.04s/it]"
     ]
    },
    {
     "name": "stdout",
     "output_type": "stream",
     "text": [
      "📍 Calculating routes for Denise Bernard (bicycling)...\n",
      "✅ Denise Bernard:\n",
      "   Typical: 17 mins\n",
      "   Rush hour: 17 mins\n"
     ]
    },
    {
     "name": "stderr",
     "output_type": "stream",
     "text": [
      "Calculating commutes:  63%|██████▎   | 101/161 [04:54<03:01,  3.03s/it]"
     ]
    },
    {
     "name": "stdout",
     "output_type": "stream",
     "text": [
      "📍 Calculating routes for Hugues Grenier (bicycling)...\n",
      "✅ Hugues Grenier:\n",
      "   Typical: 25 mins\n",
      "   Rush hour: 25 mins\n"
     ]
    },
    {
     "name": "stderr",
     "output_type": "stream",
     "text": [
      "Calculating commutes:  63%|██████▎   | 102/161 [04:57<03:01,  3.08s/it]"
     ]
    },
    {
     "name": "stdout",
     "output_type": "stream",
     "text": [
      "📍 Calculating routes for Marine Chauvin (transit)...\n",
      "✅ Marine Chauvin:\n",
      "   Typical: 36 mins\n",
      "   Rush hour: 44 mins\n"
     ]
    },
    {
     "name": "stderr",
     "output_type": "stream",
     "text": [
      "Calculating commutes:  64%|██████▍   | 103/161 [05:00<02:58,  3.08s/it]"
     ]
    },
    {
     "name": "stdout",
     "output_type": "stream",
     "text": [
      "📍 Calculating routes for Sabine Marchand (bicycling)...\n",
      "✅ Sabine Marchand:\n",
      "   Typical: 13 mins\n",
      "   Rush hour: 13 mins\n"
     ]
    },
    {
     "name": "stderr",
     "output_type": "stream",
     "text": [
      "Calculating commutes:  65%|██████▍   | 104/161 [05:03<02:53,  3.04s/it]"
     ]
    },
    {
     "name": "stdout",
     "output_type": "stream",
     "text": [
      "📍 Calculating routes for Nicole Durand (bicycling)...\n",
      "✅ Nicole Durand:\n",
      "   Typical: 37 mins\n",
      "   Rush hour: 37 mins\n"
     ]
    },
    {
     "name": "stderr",
     "output_type": "stream",
     "text": [
      "Calculating commutes:  65%|██████▌   | 105/161 [05:07<02:53,  3.09s/it]"
     ]
    },
    {
     "name": "stdout",
     "output_type": "stream",
     "text": [
      "📍 Calculating routes for Charles Devaux (transit)...\n",
      "✅ Charles Devaux:\n",
      "   Typical: 48 mins\n",
      "   Rush hour: 52 mins\n"
     ]
    },
    {
     "name": "stderr",
     "output_type": "stream",
     "text": [
      "Calculating commutes:  66%|██████▌   | 106/161 [05:10<02:52,  3.14s/it]"
     ]
    },
    {
     "name": "stdout",
     "output_type": "stream",
     "text": [
      "📍 Calculating routes for Valérie Guillou (bicycling)...\n",
      "✅ Valérie Guillou:\n",
      "   Typical: 12 mins\n",
      "   Rush hour: 12 mins\n"
     ]
    },
    {
     "name": "stderr",
     "output_type": "stream",
     "text": [
      "Calculating commutes:  66%|██████▋   | 107/161 [05:13<02:46,  3.09s/it]"
     ]
    },
    {
     "name": "stdout",
     "output_type": "stream",
     "text": [
      "📍 Calculating routes for Sébastien Leconte (driving)...\n",
      "✅ Sébastien Leconte:\n",
      "   Typical: 29 mins\n",
      "   Rush hour: 37 mins\n"
     ]
    },
    {
     "name": "stderr",
     "output_type": "stream",
     "text": [
      "Calculating commutes:  67%|██████▋   | 108/161 [05:16<02:41,  3.04s/it]"
     ]
    },
    {
     "name": "stdout",
     "output_type": "stream",
     "text": [
      "📍 Calculating routes for Luc Leleu (bicycling)...\n",
      "✅ Luc Leleu:\n",
      "   Typical: 51 mins\n",
      "   Rush hour: 51 mins\n"
     ]
    },
    {
     "name": "stderr",
     "output_type": "stream",
     "text": [
      "Calculating commutes:  68%|██████▊   | 109/161 [05:19<02:41,  3.10s/it]"
     ]
    },
    {
     "name": "stdout",
     "output_type": "stream",
     "text": [
      "📍 Calculating routes for Dominique Klein (transit)...\n",
      "✅ Dominique Klein:\n",
      "   Typical: 59 mins\n",
      "   Rush hour: 1 hour 4 mins\n"
     ]
    },
    {
     "name": "stderr",
     "output_type": "stream",
     "text": [
      "Calculating commutes:  68%|██████▊   | 110/161 [05:21<02:26,  2.88s/it]"
     ]
    },
    {
     "name": "stdout",
     "output_type": "stream",
     "text": [
      "📍 Calculating routes for Margot Perrot (driving)...\n",
      "✅ Margot Perrot:\n",
      "   Typical: 31 mins\n",
      "   Rush hour: 38 mins\n"
     ]
    },
    {
     "name": "stderr",
     "output_type": "stream",
     "text": [
      "Calculating commutes:  69%|██████▉   | 111/161 [05:24<02:25,  2.91s/it]"
     ]
    },
    {
     "name": "stdout",
     "output_type": "stream",
     "text": [
      "📍 Calculating routes for Gilles Baudry (bicycling)...\n",
      "✅ Gilles Baudry:\n",
      "   Typical: 25 mins\n",
      "   Rush hour: 25 mins\n"
     ]
    },
    {
     "name": "stderr",
     "output_type": "stream",
     "text": [
      "Calculating commutes:  70%|██████▉   | 112/161 [05:27<02:18,  2.83s/it]"
     ]
    },
    {
     "name": "stdout",
     "output_type": "stream",
     "text": [
      "📍 Calculating routes for Luc Gonzalez (driving)...\n",
      "✅ Luc Gonzalez:\n",
      "   Typical: 21 mins\n",
      "   Rush hour: 27 mins\n"
     ]
    },
    {
     "name": "stderr",
     "output_type": "stream",
     "text": [
      "Calculating commutes:  70%|███████   | 113/161 [05:30<02:18,  2.89s/it]"
     ]
    },
    {
     "name": "stdout",
     "output_type": "stream",
     "text": [
      "📍 Calculating routes for Gabriel Fontaine (bicycling)...\n",
      "✅ Gabriel Fontaine:\n",
      "   Typical: 35 mins\n",
      "   Rush hour: 35 mins\n"
     ]
    },
    {
     "name": "stderr",
     "output_type": "stream",
     "text": [
      "Calculating commutes:  71%|███████   | 114/161 [05:33<02:18,  2.95s/it]"
     ]
    },
    {
     "name": "stdout",
     "output_type": "stream",
     "text": [
      "📍 Calculating routes for Andréa Wagner (driving)...\n",
      "✅ Andréa Wagner:\n",
      "   Typical: 26 mins\n",
      "   Rush hour: 33 mins\n"
     ]
    },
    {
     "name": "stderr",
     "output_type": "stream",
     "text": [
      "Calculating commutes:  71%|███████▏  | 115/161 [05:36<02:20,  3.05s/it]"
     ]
    },
    {
     "name": "stdout",
     "output_type": "stream",
     "text": [
      "📍 Calculating routes for Théodore Maillet (transit)...\n",
      "✅ Théodore Maillet:\n",
      "   Typical: 32 mins\n",
      "   Rush hour: 33 mins\n"
     ]
    },
    {
     "name": "stderr",
     "output_type": "stream",
     "text": [
      "Calculating commutes:  72%|███████▏  | 116/161 [05:39<02:14,  2.98s/it]"
     ]
    },
    {
     "name": "stdout",
     "output_type": "stream",
     "text": [
      "📍 Calculating routes for Benjamin Pichon (driving)...\n",
      "✅ Benjamin Pichon:\n",
      "   Typical: 17 mins\n",
      "   Rush hour: 19 mins\n"
     ]
    },
    {
     "name": "stderr",
     "output_type": "stream",
     "text": [
      "Calculating commutes:  73%|███████▎  | 117/161 [05:42<02:10,  2.96s/it]"
     ]
    },
    {
     "name": "stdout",
     "output_type": "stream",
     "text": [
      "📍 Calculating routes for Simon Verdier (driving)...\n",
      "✅ Simon Verdier:\n",
      "   Typical: 31 mins\n",
      "   Rush hour: 40 mins\n"
     ]
    },
    {
     "name": "stderr",
     "output_type": "stream",
     "text": [
      "Calculating commutes:  73%|███████▎  | 118/161 [05:46<02:13,  3.11s/it]"
     ]
    },
    {
     "name": "stdout",
     "output_type": "stream",
     "text": [
      "📍 Calculating routes for Alain Da Costa (driving)...\n",
      "✅ Alain Da Costa:\n",
      "   Typical: 22 mins\n",
      "   Rush hour: 24 mins\n"
     ]
    },
    {
     "name": "stderr",
     "output_type": "stream",
     "text": [
      "Calculating commutes:  74%|███████▍  | 119/161 [05:48<02:06,  3.01s/it]"
     ]
    },
    {
     "name": "stdout",
     "output_type": "stream",
     "text": [
      "📍 Calculating routes for Aurélien Morin (transit)...\n",
      "✅ Aurélien Morin:\n",
      "   Typical: 27 mins\n",
      "   Rush hour: 28 mins\n"
     ]
    },
    {
     "name": "stderr",
     "output_type": "stream",
     "text": [
      "Calculating commutes:  75%|███████▍  | 120/161 [05:51<02:04,  3.04s/it]"
     ]
    },
    {
     "name": "stdout",
     "output_type": "stream",
     "text": [
      "📍 Calculating routes for Marcelle Jean (bicycling)...\n",
      "✅ Marcelle Jean:\n",
      "   Typical: 30 mins\n",
      "   Rush hour: 30 mins\n"
     ]
    },
    {
     "name": "stderr",
     "output_type": "stream",
     "text": [
      "Calculating commutes:  75%|███████▌  | 121/161 [05:54<01:56,  2.91s/it]"
     ]
    },
    {
     "name": "stdout",
     "output_type": "stream",
     "text": [
      "📍 Calculating routes for Aurélie Petitjean (driving)...\n",
      "✅ Aurélie Petitjean:\n",
      "   Typical: 27 mins\n",
      "   Rush hour: 37 mins\n"
     ]
    },
    {
     "name": "stderr",
     "output_type": "stream",
     "text": [
      "Calculating commutes:  76%|███████▌  | 122/161 [05:57<01:57,  3.02s/it]"
     ]
    },
    {
     "name": "stdout",
     "output_type": "stream",
     "text": [
      "📍 Calculating routes for Emmanuelle Torres (bicycling)...\n",
      "✅ Emmanuelle Torres:\n",
      "   Typical: 15 mins\n",
      "   Rush hour: 15 mins\n"
     ]
    },
    {
     "name": "stderr",
     "output_type": "stream",
     "text": [
      "Calculating commutes:  76%|███████▋  | 123/161 [06:00<01:46,  2.81s/it]"
     ]
    },
    {
     "name": "stdout",
     "output_type": "stream",
     "text": [
      "📍 Calculating routes for Damien Menard (driving)...\n",
      "✅ Damien Menard:\n",
      "   Typical: 50 mins\n",
      "   Rush hour: 1 hour 2 mins\n"
     ]
    },
    {
     "name": "stderr",
     "output_type": "stream",
     "text": [
      "Calculating commutes:  77%|███████▋  | 124/161 [06:03<01:50,  3.00s/it]"
     ]
    },
    {
     "name": "stdout",
     "output_type": "stream",
     "text": [
      "📍 Calculating routes for Alfred Meyer (driving)...\n",
      "✅ Alfred Meyer:\n",
      "   Typical: 27 mins\n",
      "   Rush hour: 30 mins\n"
     ]
    },
    {
     "name": "stderr",
     "output_type": "stream",
     "text": [
      "Calculating commutes:  78%|███████▊  | 125/161 [06:06<01:45,  2.92s/it]"
     ]
    },
    {
     "name": "stdout",
     "output_type": "stream",
     "text": [
      "📍 Calculating routes for Emmanuelle Faure (driving)...\n",
      "✅ Emmanuelle Faure:\n",
      "   Typical: 27 mins\n",
      "   Rush hour: 36 mins\n"
     ]
    },
    {
     "name": "stderr",
     "output_type": "stream",
     "text": [
      "Calculating commutes:  78%|███████▊  | 126/161 [06:08<01:37,  2.79s/it]"
     ]
    },
    {
     "name": "stdout",
     "output_type": "stream",
     "text": [
      "📍 Calculating routes for Lucas Gilbert (bicycling)...\n",
      "✅ Lucas Gilbert:\n",
      "   Typical: 39 mins\n",
      "   Rush hour: 39 mins\n"
     ]
    },
    {
     "name": "stderr",
     "output_type": "stream",
     "text": [
      "Calculating commutes:  79%|███████▉  | 127/161 [06:11<01:30,  2.67s/it]"
     ]
    },
    {
     "name": "stdout",
     "output_type": "stream",
     "text": [
      "📍 Calculating routes for Génée Boutin (driving)...\n",
      "✅ Génée Boutin:\n",
      "   Typical: 27 mins\n",
      "   Rush hour: 34 mins\n"
     ]
    },
    {
     "name": "stderr",
     "output_type": "stream",
     "text": [
      "Calculating commutes:  80%|███████▉  | 128/161 [06:14<01:29,  2.70s/it]"
     ]
    },
    {
     "name": "stdout",
     "output_type": "stream",
     "text": [
      "📍 Calculating routes for Capucine Gosselin (bicycling)...\n",
      "✅ Capucine Gosselin:\n",
      "   Typical: 12 mins\n",
      "   Rush hour: 12 mins\n"
     ]
    },
    {
     "name": "stderr",
     "output_type": "stream",
     "text": [
      "Calculating commutes:  80%|████████  | 129/161 [06:17<01:30,  2.82s/it]"
     ]
    },
    {
     "name": "stdout",
     "output_type": "stream",
     "text": [
      "📍 Calculating routes for Daniel Gomez (driving)...\n",
      "✅ Daniel Gomez:\n",
      "   Typical: 30 mins\n",
      "   Rush hour: 39 mins\n"
     ]
    },
    {
     "name": "stderr",
     "output_type": "stream",
     "text": [
      "Calculating commutes:  81%|████████  | 130/161 [06:20<01:30,  2.92s/it]"
     ]
    },
    {
     "name": "stdout",
     "output_type": "stream",
     "text": [
      "📍 Calculating routes for Gégoire Guillot (walking)...\n",
      "✅ Gégoire Guillot:\n",
      "   Typical: 3 mins\n",
      "   Rush hour: 3 mins\n"
     ]
    },
    {
     "name": "stderr",
     "output_type": "stream",
     "text": [
      "Calculating commutes:  81%|████████▏ | 131/161 [06:22<01:24,  2.81s/it]"
     ]
    },
    {
     "name": "stdout",
     "output_type": "stream",
     "text": [
      "📍 Calculating routes for Sébastien Lacroix (transit)...\n",
      "✅ Sébastien Lacroix:\n",
      "   Typical: 1 hour 7 mins\n",
      "   Rush hour: 1 hour 4 mins\n"
     ]
    },
    {
     "name": "stderr",
     "output_type": "stream",
     "text": [
      "Calculating commutes:  82%|████████▏ | 132/161 [06:25<01:22,  2.83s/it]"
     ]
    },
    {
     "name": "stdout",
     "output_type": "stream",
     "text": [
      "📍 Calculating routes for Emmanuel Marchand (driving)...\n",
      "✅ Emmanuel Marchand:\n",
      "   Typical: 36 mins\n",
      "   Rush hour: 43 mins\n"
     ]
    },
    {
     "name": "stderr",
     "output_type": "stream",
     "text": [
      "Calculating commutes:  83%|████████▎ | 133/161 [06:28<01:19,  2.84s/it]"
     ]
    },
    {
     "name": "stdout",
     "output_type": "stream",
     "text": [
      "📍 Calculating routes for William Hernandez (driving)...\n",
      "✅ William Hernandez:\n",
      "   Typical: 29 mins\n",
      "   Rush hour: 38 mins\n"
     ]
    },
    {
     "name": "stderr",
     "output_type": "stream",
     "text": [
      "Calculating commutes:  83%|████████▎ | 134/161 [06:31<01:18,  2.90s/it]"
     ]
    },
    {
     "name": "stdout",
     "output_type": "stream",
     "text": [
      "📍 Calculating routes for William Lefebvre (driving)...\n",
      "✅ William Lefebvre:\n",
      "   Typical: 40 mins\n",
      "   Rush hour: 47 mins\n"
     ]
    },
    {
     "name": "stderr",
     "output_type": "stream",
     "text": [
      "Calculating commutes:  84%|████████▍ | 135/161 [06:35<01:19,  3.05s/it]"
     ]
    },
    {
     "name": "stdout",
     "output_type": "stream",
     "text": [
      "📍 Calculating routes for Julie Lambert (driving)...\n",
      "✅ Julie Lambert:\n",
      "   Typical: 5 mins\n",
      "   Rush hour: 7 mins\n"
     ]
    },
    {
     "name": "stderr",
     "output_type": "stream",
     "text": [
      "Calculating commutes:  84%|████████▍ | 136/161 [06:37<01:15,  3.01s/it]"
     ]
    },
    {
     "name": "stdout",
     "output_type": "stream",
     "text": [
      "📍 Calculating routes for Bertrand Grondin (bicycling)...\n",
      "✅ Bertrand Grondin:\n",
      "   Typical: 37 mins\n",
      "   Rush hour: 37 mins\n"
     ]
    },
    {
     "name": "stderr",
     "output_type": "stream",
     "text": [
      "Calculating commutes:  85%|████████▌ | 137/161 [06:40<01:08,  2.87s/it]"
     ]
    },
    {
     "name": "stdout",
     "output_type": "stream",
     "text": [
      "📍 Calculating routes for Bertrand Renard (driving)...\n",
      "✅ Bertrand Renard:\n",
      "   Typical: 31 mins\n",
      "   Rush hour: 43 mins\n"
     ]
    },
    {
     "name": "stderr",
     "output_type": "stream",
     "text": [
      "Calculating commutes:  86%|████████▌ | 138/161 [06:43<01:07,  2.95s/it]"
     ]
    },
    {
     "name": "stdout",
     "output_type": "stream",
     "text": [
      "📍 Calculating routes for Nath Lebon (bicycling)...\n",
      "✅ Nath Lebon:\n",
      "   Typical: 17 mins\n",
      "   Rush hour: 17 mins\n"
     ]
    },
    {
     "name": "stderr",
     "output_type": "stream",
     "text": [
      "Calculating commutes:  86%|████████▋ | 139/161 [06:46<01:04,  2.95s/it]"
     ]
    },
    {
     "name": "stdout",
     "output_type": "stream",
     "text": [
      "📍 Calculating routes for Juliette Raymond (driving)...\n",
      "✅ Juliette Raymond:\n",
      "   Typical: 27 mins\n",
      "   Rush hour: 36 mins\n"
     ]
    },
    {
     "name": "stderr",
     "output_type": "stream",
     "text": [
      "Calculating commutes:  87%|████████▋ | 140/161 [06:49<01:02,  2.98s/it]"
     ]
    },
    {
     "name": "stdout",
     "output_type": "stream",
     "text": [
      "📍 Calculating routes for Simone Gosselin (bicycling)...\n",
      "✅ Simone Gosselin:\n",
      "   Typical: 26 mins\n",
      "   Rush hour: 26 mins\n"
     ]
    },
    {
     "name": "stderr",
     "output_type": "stream",
     "text": [
      "Calculating commutes:  88%|████████▊ | 141/161 [06:52<00:57,  2.88s/it]"
     ]
    },
    {
     "name": "stdout",
     "output_type": "stream",
     "text": [
      "📍 Calculating routes for Alain Dupré (driving)...\n",
      "✅ Alain Dupré:\n",
      "   Typical: 29 mins\n",
      "   Rush hour: 40 mins\n"
     ]
    },
    {
     "name": "stderr",
     "output_type": "stream",
     "text": [
      "Calculating commutes:  88%|████████▊ | 142/161 [06:55<00:58,  3.07s/it]"
     ]
    },
    {
     "name": "stdout",
     "output_type": "stream",
     "text": [
      "📍 Calculating routes for Joseph Delattre (driving)...\n",
      "✅ Joseph Delattre:\n",
      "   Typical: 25 mins\n",
      "   Rush hour: 32 mins\n"
     ]
    },
    {
     "name": "stderr",
     "output_type": "stream",
     "text": [
      "Calculating commutes:  89%|████████▉ | 143/161 [06:58<00:54,  3.03s/it]"
     ]
    },
    {
     "name": "stdout",
     "output_type": "stream",
     "text": [
      "📍 Calculating routes for Claire Da Silva (driving)...\n",
      "✅ Claire Da Silva:\n",
      "   Typical: 34 mins\n",
      "   Rush hour: 42 mins\n"
     ]
    },
    {
     "name": "stderr",
     "output_type": "stream",
     "text": [
      "Calculating commutes:  89%|████████▉ | 144/161 [07:01<00:49,  2.93s/it]"
     ]
    },
    {
     "name": "stdout",
     "output_type": "stream",
     "text": [
      "📍 Calculating routes for Anais Benard (transit)...\n",
      "✅ Anais Benard:\n",
      "   Typical: 1 hour 16 mins\n",
      "   Rush hour: 1 hour 3 mins\n"
     ]
    },
    {
     "name": "stderr",
     "output_type": "stream",
     "text": [
      "Calculating commutes:  90%|█████████ | 145/161 [07:03<00:43,  2.74s/it]"
     ]
    },
    {
     "name": "stdout",
     "output_type": "stream",
     "text": [
      "📍 Calculating routes for Suzanne Munoz (driving)...\n",
      "✅ Suzanne Munoz:\n",
      "   Typical: 16 mins\n",
      "   Rush hour: 21 mins\n"
     ]
    },
    {
     "name": "stderr",
     "output_type": "stream",
     "text": [
      "Calculating commutes:  91%|█████████ | 146/161 [07:06<00:43,  2.87s/it]"
     ]
    },
    {
     "name": "stdout",
     "output_type": "stream",
     "text": [
      "📍 Calculating routes for Marie Hernandez (driving)...\n",
      "✅ Marie Hernandez:\n",
      "   Typical: 43 mins\n",
      "   Rush hour: 50 mins\n"
     ]
    },
    {
     "name": "stderr",
     "output_type": "stream",
     "text": [
      "Calculating commutes:  91%|█████████▏| 147/161 [07:09<00:40,  2.87s/it]"
     ]
    },
    {
     "name": "stdout",
     "output_type": "stream",
     "text": [
      "📍 Calculating routes for Roger Techer (walking)...\n",
      "✅ Roger Techer:\n",
      "   Typical: 45 mins\n",
      "   Rush hour: 45 mins\n"
     ]
    },
    {
     "name": "stderr",
     "output_type": "stream",
     "text": [
      "Calculating commutes:  92%|█████████▏| 148/161 [07:14<00:44,  3.41s/it]"
     ]
    },
    {
     "name": "stdout",
     "output_type": "stream",
     "text": [
      "📍 Calculating routes for Laurence Morvan (bicycling)...\n",
      "✅ Laurence Morvan:\n",
      "   Typical: 16 mins\n",
      "   Rush hour: 16 mins\n"
     ]
    },
    {
     "name": "stderr",
     "output_type": "stream",
     "text": [
      "Calculating commutes:  93%|█████████▎| 149/161 [07:16<00:38,  3.17s/it]"
     ]
    },
    {
     "name": "stdout",
     "output_type": "stream",
     "text": [
      "📍 Calculating routes for Marguerite Carre (walking)...\n",
      "✅ Marguerite Carre:\n",
      "   Typical: 32 mins\n",
      "   Rush hour: 32 mins\n"
     ]
    },
    {
     "name": "stderr",
     "output_type": "stream",
     "text": [
      "Calculating commutes:  93%|█████████▎| 150/161 [07:19<00:32,  2.97s/it]"
     ]
    },
    {
     "name": "stdout",
     "output_type": "stream",
     "text": [
      "📍 Calculating routes for René Marchand (transit)...\n",
      "✅ René Marchand:\n",
      "   Typical: 45 mins\n",
      "   Rush hour: 42 mins\n"
     ]
    },
    {
     "name": "stderr",
     "output_type": "stream",
     "text": [
      "Calculating commutes:  94%|█████████▍| 151/161 [07:22<00:30,  3.02s/it]"
     ]
    },
    {
     "name": "stdout",
     "output_type": "stream",
     "text": [
      "📍 Calculating routes for Nathalie Colas (bicycling)...\n",
      "✅ Nathalie Colas:\n",
      "   Typical: 57 mins\n",
      "   Rush hour: 57 mins\n"
     ]
    },
    {
     "name": "stderr",
     "output_type": "stream",
     "text": [
      "Calculating commutes:  94%|█████████▍| 152/161 [07:25<00:26,  2.99s/it]"
     ]
    },
    {
     "name": "stdout",
     "output_type": "stream",
     "text": [
      "📍 Calculating routes for Margaud Godard (bicycling)...\n",
      "✅ Margaud Godard:\n",
      "   Typical: 35 mins\n",
      "   Rush hour: 35 mins\n"
     ]
    },
    {
     "name": "stderr",
     "output_type": "stream",
     "text": [
      "Calculating commutes:  95%|█████████▌| 153/161 [07:28<00:23,  2.93s/it]"
     ]
    },
    {
     "name": "stdout",
     "output_type": "stream",
     "text": [
      "📍 Calculating routes for TimothÃ©e Tanguy (walking)...\n",
      "✅ TimothÃ©e Tanguy:\n",
      "   Typical: 22 mins\n",
      "   Rush hour: 22 mins\n"
     ]
    },
    {
     "name": "stderr",
     "output_type": "stream",
     "text": [
      "Calculating commutes:  96%|█████████▌| 154/161 [07:30<00:19,  2.74s/it]"
     ]
    },
    {
     "name": "stdout",
     "output_type": "stream",
     "text": [
      "📍 Calculating routes for Michel Normand (bicycling)...\n",
      "✅ Michel Normand:\n",
      "   Typical: 36 mins\n",
      "   Rush hour: 36 mins\n"
     ]
    },
    {
     "name": "stderr",
     "output_type": "stream",
     "text": [
      "Calculating commutes:  96%|█████████▋| 155/161 [07:33<00:16,  2.83s/it]"
     ]
    },
    {
     "name": "stdout",
     "output_type": "stream",
     "text": [
      "📍 Calculating routes for Sylvain Renard (bicycling)...\n",
      "✅ Sylvain Renard:\n",
      "   Typical: 33 mins\n",
      "   Rush hour: 33 mins\n"
     ]
    },
    {
     "name": "stderr",
     "output_type": "stream",
     "text": [
      "Calculating commutes:  97%|█████████▋| 156/161 [07:36<00:14,  2.92s/it]"
     ]
    },
    {
     "name": "stdout",
     "output_type": "stream",
     "text": [
      "📍 Calculating routes for Gilles Guillou (bicycling)...\n",
      "✅ Gilles Guillou:\n",
      "   Typical: 39 mins\n",
      "   Rush hour: 39 mins\n"
     ]
    },
    {
     "name": "stderr",
     "output_type": "stream",
     "text": [
      "Calculating commutes:  98%|█████████▊| 157/161 [07:39<00:10,  2.74s/it]"
     ]
    },
    {
     "name": "stdout",
     "output_type": "stream",
     "text": [
      "📍 Calculating routes for Jeannine Breton (walking)...\n",
      "✅ Jeannine Breton:\n",
      "   Typical: 57 mins\n",
      "   Rush hour: 57 mins\n"
     ]
    },
    {
     "name": "stderr",
     "output_type": "stream",
     "text": [
      "Calculating commutes:  98%|█████████▊| 158/161 [07:41<00:07,  2.65s/it]"
     ]
    },
    {
     "name": "stdout",
     "output_type": "stream",
     "text": [
      "📍 Calculating routes for Philippe Delahaye (driving)...\n",
      "✅ Philippe Delahaye:\n",
      "   Typical: 16 mins\n",
      "   Rush hour: 21 mins\n"
     ]
    },
    {
     "name": "stderr",
     "output_type": "stream",
     "text": [
      "Calculating commutes:  99%|█████████▉| 159/161 [07:44<00:05,  2.83s/it]"
     ]
    },
    {
     "name": "stdout",
     "output_type": "stream",
     "text": [
      "📍 Calculating routes for Odette Dumas (driving)...\n",
      "✅ Odette Dumas:\n",
      "   Typical: 18 mins\n",
      "   Rush hour: 23 mins\n"
     ]
    },
    {
     "name": "stderr",
     "output_type": "stream",
     "text": [
      "Calculating commutes:  99%|█████████▉| 160/161 [07:47<00:02,  2.85s/it]"
     ]
    },
    {
     "name": "stdout",
     "output_type": "stream",
     "text": [
      "📍 Calculating routes for Henri Pineau (bicycling)...\n",
      "✅ Henri Pineau:\n",
      "   Typical: 21 mins\n",
      "   Rush hour: 21 mins\n"
     ]
    },
    {
     "name": "stderr",
     "output_type": "stream",
     "text": [
      "Calculating commutes: 100%|██████████| 161/161 [07:50<00:00,  2.92s/it]\n"
     ]
    },
    {
     "name": "stdout",
     "output_type": "stream",
     "text": [
      "\n",
      "🎉 Done! File saved as: employee_commutes_two_times.csv\n",
      "\n",
      "👤 Audrey Colin's results:\n",
      "Typical: 00:42:33\n",
      "Rush hour: 00:46:33\n"
     ]
    }
   ],
   "source": [
    "import pandas as pd\n",
    "import numpy as np\n",
    "import googlemaps\n",
    "from datetime import datetime, timedelta, time as dt_time\n",
    "from typing import Optional, Dict, List, Tuple\n",
    "import functools\n",
    "import json\n",
    "import time\n",
    "import random\n",
    "from tqdm import tqdm\n",
    "\n",
    "# === CONFIGURATION ===\n",
    "try:\n",
    "    with open(\"secret.json\") as f:\n",
    "        secrets = json.load(f)\n",
    "    API_KEY = secrets.get(\"GOOGLE_API_KEY\")\n",
    "    if not API_KEY:\n",
    "        raise ValueError(\"API key not found in secret.json\")\n",
    "except FileNotFoundError:\n",
    "    raise FileNotFoundError(\"secret.json not found.\")\n",
    "\n",
    "company_address = \"1362 Av. des Platanes, 34970 Lattes\"\n",
    "\n",
    "# === UTILITY FUNCTIONS ===\n",
    "def cache_results(func):\n",
    "    cache = {}\n",
    "    \n",
    "    @functools.wraps(func)\n",
    "    def wrapper(*args, **kwargs):\n",
    "        key_args = args[1:]\n",
    "        cache_key = str(key_args) + str(sorted(kwargs.items()))\n",
    "        if cache_key not in cache:\n",
    "            cache[cache_key] = func(*args, **kwargs)\n",
    "        return cache[cache_key]\n",
    "    return wrapper\n",
    "\n",
    "@cache_results\n",
    "def geocode_address(client: googlemaps.Client, address: str) -> Optional[Tuple[float, float]]:\n",
    "    try:\n",
    "        result = client.geocode(address)\n",
    "        if result:\n",
    "            location = result[0]['geometry']['location']\n",
    "            return (location['lat'], location['lng'])\n",
    "    except Exception as e:\n",
    "        print(f\"Geocoding failed for '{address}': {str(e)}\")\n",
    "    return None\n",
    "\n",
    "def get_next_weekday(target_weekday=0, hour=10, minute=0):\n",
    "    \"\"\"Get next specific weekday at specified time\"\"\"\n",
    "    today = datetime.now()\n",
    "    days_ahead = (target_weekday - today.weekday() + 7) % 7\n",
    "    if days_ahead == 0 and today.time() > dt_time(hour, minute):\n",
    "        days_ahead = 7\n",
    "    \n",
    "    target_date = today + timedelta(days=days_ahead)\n",
    "    return target_date.replace(hour=hour, minute=minute, second=0, microsecond=0)\n",
    "\n",
    "def calculate_route_with_options(\n",
    "    client: googlemaps.Client,\n",
    "    origin: str,\n",
    "    destination: str,\n",
    "    mode: str = \"driving\",\n",
    "    departure_time: Optional[datetime] = None,\n",
    "    traffic_model: Optional[str] = None\n",
    ") -> Optional[Dict]:\n",
    "    \"\"\"Calculate route with specific timing options\"\"\"\n",
    "    try:\n",
    "        api_params = {\n",
    "            'origin': origin,\n",
    "            'destination': destination,\n",
    "            'mode': mode,\n",
    "            'units': 'metric'\n",
    "        }\n",
    "        \n",
    "        if departure_time:\n",
    "            api_params['departure_time'] = departure_time\n",
    "            if mode == 'driving' and traffic_model:\n",
    "                api_params['traffic_model'] = traffic_model\n",
    "        \n",
    "        directions = client.directions(**api_params)\n",
    "        \n",
    "        if not directions:\n",
    "            return None\n",
    "            \n",
    "        leg = directions[0]['legs'][0]\n",
    "        duration_data = leg.get('duration_in_traffic', leg['duration'])\n",
    "        \n",
    "        return {\n",
    "            \"duration\": duration_data['text'],\n",
    "            \"duration_seconds\": duration_data['value'],\n",
    "            \"distance_meters\": leg['distance']['value'],\n",
    "            \"has_traffic_data\": 'duration_in_traffic' in leg,\n",
    "            \"departure_time\": departure_time.isoformat() if departure_time else \"current\"\n",
    "        }\n",
    "        \n",
    "    except Exception as e:\n",
    "        print(f\"Route calculation failed: {str(e)}\")\n",
    "        return None\n",
    "\n",
    "def get_meaningful_route_times(\n",
    "    client: googlemaps.Client,\n",
    "    origin_address: str,\n",
    "    destination_address: str,\n",
    "    mode: str = \"driving\"\n",
    ") -> Dict:\n",
    "    \"\"\"Get three meaningful time estimates\"\"\"\n",
    "    \n",
    "    origin_coords = geocode_address(client, origin_address)\n",
    "    destination_coords = geocode_address(client, destination_address)\n",
    "    \n",
    "    if not origin_coords or not destination_coords:\n",
    "        return {\"error\": \"Geocoding failed\"}\n",
    "    \n",
    "    results = {}\n",
    "    \n",
    "    # 1. TYPICAL CONDITIONS (Monday 10:00 AM - off-peak)\n",
    "    monday_10am = get_next_weekday(0, 10, 0)  # Monday 10:00 AM\n",
    "    \n",
    "    typical_route = calculate_route_with_options(\n",
    "        client=client,\n",
    "        origin=origin_coords,\n",
    "        destination=destination_coords,\n",
    "        mode=mode,\n",
    "        departure_time=monday_10am,\n",
    "        traffic_model=\"optimistic\" if mode == \"driving\" else None\n",
    "    )\n",
    "    \n",
    "    if typical_route:\n",
    "        results['typical'] = {\n",
    "            'duration': typical_route['duration'],\n",
    "            'duration_seconds': typical_route['duration_seconds'],\n",
    "            'distance_km': typical_route['distance_meters'] / 1000,\n",
    "            'description': 'Typical conditions (Monday 10:00 AM)'\n",
    "        }\n",
    "    \n",
    "    # 2. RUSH HOUR (Tomorrow 8:00 AM)\n",
    "    tomorrow_8am = (datetime.now() + timedelta(days=1)).replace(hour=8, minute=0, second=0)\n",
    "    \n",
    "    rush_hour_route = calculate_route_with_options(\n",
    "        client=client,\n",
    "        origin=origin_coords,\n",
    "        destination=destination_coords,\n",
    "        mode=mode,\n",
    "        departure_time=tomorrow_8am,\n",
    "        traffic_model=\"best_guess\" if mode == \"driving\" else None\n",
    "    )\n",
    "    \n",
    "    if rush_hour_route:\n",
    "        results['rush_hour'] = {\n",
    "            'duration': rush_hour_route['duration'],\n",
    "            'duration_seconds': rush_hour_route['duration_seconds'],\n",
    "            'distance_km': rush_hour_route['distance_meters'] / 1000,\n",
    "            'description': 'Rush hour (8:00 AM)'\n",
    "        }\n",
    "    \n",
    "    # current_route = calculate_route_with_options(\n",
    "    #     client=client,\n",
    "    #     origin=origin_coords,\n",
    "    #     destination=destination_coords,\n",
    "    #     mode=mode,\n",
    "    #     departure_time=datetime.now()\n",
    "    # )\n",
    "    \n",
    "    # if current_route:\n",
    "    #     results['current'] = {\n",
    "    #         'duration': current_route['duration'],\n",
    "    #         'duration_seconds': current_route['duration_seconds'],\n",
    "    #         'distance_km': current_route['distance_meters'] / 1000,\n",
    "    #         'description': 'Current conditions'\n",
    "    #     }\n",
    "    \n",
    "    return results\n",
    "\n",
    "def parse_duration_from_seconds(total_seconds: int) -> str:\n",
    "    hours = total_seconds // 3600\n",
    "    minutes = (total_seconds % 3600) // 60\n",
    "    seconds = total_seconds % 60\n",
    "    return f\"{hours:02d}:{minutes:02d}:{seconds:02d}\"\n",
    "\n",
    "def get_employee_commute_corrected(row: pd.Series, company_addr: str) -> Dict:\n",
    "    transport_mapping = {\n",
    "        'Transports en commun': 'transit',\n",
    "        'véhicule thermique/électrique': 'driving',\n",
    "        'Marche/running': 'walking',\n",
    "        'Vélo/Trottinette/Autres': 'bicycling'\n",
    "    }\n",
    "    \n",
    "    try:\n",
    "        employee_name = f\"{row.get('Prénom', 'Unknown')} {row.get('Nom', 'Unknown')}\"\n",
    "        home_address = row.get('Adresse du domicile', '')\n",
    "        \n",
    "        if not home_address:\n",
    "            return {\n",
    "                'Distance_km_typical': None,\n",
    "                'Duree_hhmmss_typical': \"00:00:00\",\n",
    "                'Distance_km_rush_hour': None,\n",
    "                'Duree_hhmmss_rush_hour': \"00:00:00\",\n",
    "                # 'Distance_km_current': None,\n",
    "                # 'Duree_hhmmss_current': \"00:00:00\",\n",
    "                'Success': False\n",
    "            }\n",
    "        \n",
    "        mode = transport_mapping.get(row.get('Moyen de déplacement', ''), 'driving')\n",
    "        \n",
    "        print(f\"📍 Calculating routes for {employee_name} ({mode})...\")\n",
    "        \n",
    "        route_times = get_meaningful_route_times(\n",
    "            client=client,\n",
    "            origin_address=home_address,\n",
    "            destination_address=company_addr,\n",
    "            mode=mode\n",
    "        )\n",
    "        \n",
    "        if 'error' in route_times:\n",
    "            return {\n",
    "                'Distance_km_typical': None,\n",
    "                'Duree_hhmmss_typical': \"00:00:00\",\n",
    "                'Distance_km_rush_hour': None,\n",
    "                'Duree_hhmmss_rush_hour': \"00:00:00\",\n",
    "                # 'Distance_km_current': None,\n",
    "                # 'Duree_hhmmss_current': \"00:00:00\",\n",
    "                'Success': False\n",
    "            }\n",
    "        \n",
    "        # Extract results\n",
    "        typical_data = route_times.get('typical', {})\n",
    "        rush_hour_data = route_times.get('rush_hour', {})\n",
    "        # current_data = route_times.get('current', {})\n",
    "        \n",
    "        result = {\n",
    "            'Distance_km_typical': typical_data.get('distance_km'),\n",
    "            'Duree_hhmmss_typical': parse_duration_from_seconds(typical_data.get('duration_seconds', 0)),\n",
    "            'Distance_km_rush_hour': rush_hour_data.get('distance_km'),\n",
    "            'Duree_hhmmss_rush_hour': parse_duration_from_seconds(rush_hour_data.get('duration_seconds', 0)),\n",
    "            # 'Distance_km_current': current_data.get('distance_km'),\n",
    "            # 'Duree_hhmmss_current': parse_duration_from_seconds(current_data.get('duration_seconds', 0)),\n",
    "            'Success': True\n",
    "        }\n",
    "        \n",
    "        # Print results\n",
    "        if typical_data and rush_hour_data:\n",
    "            print(f\"✅ {employee_name}:\")\n",
    "            print(f\"   Typical: {typical_data.get('duration')}\")\n",
    "            print(f\"   Rush hour: {rush_hour_data.get('duration')}\")\n",
    "            # print(f\"   Current: {current_data.get('duration')}\")\n",
    "        \n",
    "        return result\n",
    "            \n",
    "    except Exception as e:\n",
    "        print(f\"❌ Error processing {employee_name}: {str(e)}\")\n",
    "        return {\n",
    "            'Distance_km_typical': None,\n",
    "            'Duree_hhmmss_typical': \"00:00:00\",\n",
    "            'Distance_km_rush_hour': None,\n",
    "            'Duree_hhmmss_rush_hour': \"00:00:00\",\n",
    "            # 'Distance_km_current': None,\n",
    "            # 'Duree_hhmmss_current': \"00:00:00\",\n",
    "            'Success': False\n",
    "        }\n",
    "\n",
    "# === TEST AND MAIN ===\n",
    "def test_audrey_colin():\n",
    "    \"\"\"Test specifically for Audrey Colin to understand the 43 vs 47 minute difference\"\"\"\n",
    "    print(\"🧪 Testing Audrey Colin's commute...\")\n",
    "    \n",
    "    global client\n",
    "    client = googlemaps.Client(key=API_KEY)\n",
    "    \n",
    "    test_address = \"128 Rue du Port, 34000 Frontignan\"\n",
    "    \n",
    "    route_times = get_meaningful_route_times(\n",
    "        client=client,\n",
    "        origin_address=test_address,\n",
    "        destination_address=company_address,\n",
    "        mode=\"transit\"\n",
    "    )\n",
    "    \n",
    "    for time_type, data in route_times.items():\n",
    "        if time_type != 'error':\n",
    "            print(f\"\\n{time_type.upper()}: {data.get('duration')}\")\n",
    "            print(f\"Description: {data.get('description')}\")\n",
    "\n",
    "def main():\n",
    "    # Load data\n",
    "    rh_path = \"../data/DonneesRH.xlsx\"\n",
    "    df_rh = pd.read_excel(rh_path)\n",
    "    \n",
    "    global client\n",
    "    client = googlemaps.Client(key=API_KEY)\n",
    "    \n",
    "    print(f\"👥 Processing {len(df_rh)} employees...\")\n",
    "    print(\"🕐 Calculating: Typical conditions + Rush hour\")\n",
    "    print(\"-\" * 60)\n",
    "    \n",
    "    results = []\n",
    "    for idx, row in tqdm(df_rh.iterrows(), total=len(df_rh), desc=\"Calculating commutes\"):\n",
    "        commute_data = get_employee_commute_corrected(row, company_address)\n",
    "        results.append(commute_data)\n",
    "        time.sleep(random.uniform(2.0, 3.0))\n",
    "    \n",
    "    # Add to DataFrame\n",
    "    for col in ['typical', 'rush_hour']:\n",
    "        df_rh[f'Distance_km_{col}'] = [r[f'Distance_km_{col}'] for r in results]\n",
    "        df_rh[f'Duree_hhmmss_{col}'] = [r[f'Duree_hhmmss_{col}'] for r in results]\n",
    "    df_rh['Commute_Success'] = [r['Success'] for r in results]\n",
    "    \n",
    "    # Export\n",
    "    output_file = \"employee_commutes_two_times.csv\"\n",
    "    df_rh.to_csv(output_file, index=False)\n",
    "    \n",
    "    print(f\"\\n🎉 Done! File saved as: {output_file}\")\n",
    "    \n",
    "    # Show Audrey Colin's results\n",
    "    audrey = df_rh[(df_rh['Nom'] == 'Colin') & (df_rh['Prénom'] == 'Audrey')]\n",
    "    if not audrey.empty:\n",
    "        print(f\"\\n👤 Audrey Colin's results:\")\n",
    "        print(f\"Typical: {audrey['Duree_hhmmss_typical'].iloc[0]}\")\n",
    "        print(f\"Rush hour: {audrey['Duree_hhmmss_rush_hour'].iloc[0]}\")\n",
    "        #print(f\"Current: {audrey['Duree_hhmmss_current'].iloc[0]}\")\n",
    "\n",
    "if __name__ == \"__main__\":\n",
    "    # Test Audrey Colin first to see which time matches your original 43 minutes\n",
    "    # test_audrey_colin()\n",
    "    \n",
    "    # Then run main processing\n",
    "    main()"
   ]
  },
  {
   "cell_type": "code",
   "execution_count": null,
   "id": "e6163ae4",
   "metadata": {},
   "outputs": [
    {
     "ename": "NameError",
     "evalue": "name 'df_rh' is not defined",
     "output_type": "error",
     "traceback": [
      "\u001b[31m---------------------------------------------------------------------------\u001b[39m",
      "\u001b[31mNameError\u001b[39m                                 Traceback (most recent call last)",
      "\u001b[36mCell\u001b[39m\u001b[36m \u001b[39m\u001b[32mIn[13]\u001b[39m\u001b[32m, line 1\u001b[39m\n\u001b[32m----> \u001b[39m\u001b[32m1\u001b[39m \u001b[43mdf_rh\u001b[49m.sort(\u001b[33m\"\u001b[39m\u001b[33mDuree_hhmmss_rush_hour\u001b[39m\u001b[33m\"\u001b[39m)\n",
      "\u001b[31mNameError\u001b[39m: name 'df_rh' is not defined"
     ]
    }
   ],
   "source": []
  }
 ],
 "metadata": {
  "kernelspec": {
   "display_name": "venv",
   "language": "python",
   "name": "python3"
  },
  "language_info": {
   "codemirror_mode": {
    "name": "ipython",
    "version": 3
   },
   "file_extension": ".py",
   "mimetype": "text/x-python",
   "name": "python",
   "nbconvert_exporter": "python",
   "pygments_lexer": "ipython3",
   "version": "3.13.1"
  }
 },
 "nbformat": 4,
 "nbformat_minor": 5
}
